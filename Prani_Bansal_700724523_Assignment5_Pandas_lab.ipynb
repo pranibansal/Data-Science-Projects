{
 "cells": [
  {
   "cell_type": "markdown",
   "id": "318928fd",
   "metadata": {},
   "source": [
    "### Pandas Homework Assignment III\n",
    "39 points\n",
    "\n",
    "Due by Midnight March 29, 2022\n",
    "\n",
    "\n",
    "**To avoid erasing the sample output, please insert a new cell above the sample output**. Write your script inside the new cell and run. Verify your output with the sample output\n",
    "\n",
    "For lab submission, please rename your file using the following format\n",
    "\n",
    "`firstname_familyname_Lab5.ipynb`\n",
    "\n",
    "GroupLens Research provides a number of collections of movie ratings data collected from users of MovieLens in the late 1990s and early 2000s. The data provide movie ratings, movie metaadata (genres and year) and demographic data about the users. Such data is often of interest in the development of recommendation systems based on machine leraning algorithms. The MovieLens 1M dataset contains 1 million ratings collected from 6000 users on 4000 movies. It is spread across three tables: ratings, user information and movie information\n",
    "    \n",
    "- Age is chosen from the following ranges: \n",
    "\t*  1:  \"Under 18\"\n",
    "\t* 18:  \"18-24\"\n",
    "\t* 25:  \"25-34\"\n",
    "\t* 35:  \"35-44\"\n",
    "\t* 45:  \"45-49\"\n",
    "\t* 50:  \"50-55\"\n",
    "\t* 56:  \"56+\"\n",
    "\n",
    "- Occupation is chosen from the following choices:\n",
    "\t*  0:  \"other\" or not specified\n",
    "\t*  1:  \"academic/educator\"\n",
    "\t*  2:  \"artist\"\n",
    "\t*  3:  \"clerical/admin\"\n",
    "\t*  4:  \"college/grad student\"\n",
    "\t*  5:  \"customer service\"\n",
    "\t*  6:  \"doctor/health care\"\n",
    "\t*  7:  \"executive/managerial\"\n",
    "\t*  8:  \"farmer\"\n",
    "\t*  9:  \"homemaker\"\n",
    "\t* 10:  \"K-12 student\"\n",
    "\t* 11:  \"lawyer\"\n",
    "\t* 12:  \"programmer\"\n",
    "\t* 13:  \"retired\"\n",
    "\t* 14:  \"sales/marketing\"\n",
    "\t* 15:  \"scientist\"\n",
    "\t* 16:  \"self-employed\"\n",
    "\t* 17:  \"technician/engineer\"\n",
    "\t* 18:  \"tradesman/craftsman\"\n",
    "\t* 19:  \"unemployed\"\n",
    "\t* 20:  \"writer\""
   ]
  },
  {
   "cell_type": "code",
   "execution_count": null,
   "id": "b553cc9d",
   "metadata": {},
   "outputs": [],
   "source": [
    "# please enter your name and 700# in this cell\n",
    "Prani Bansal\n",
    "700724523\n",
    "\n"
   ]
  },
  {
   "cell_type": "markdown",
   "id": "4a0cc7be",
   "metadata": {},
   "source": [
    "### Task 0\n",
    "+ Import numpy as np\n",
    "+ Import pandas as pd"
   ]
  },
  {
   "cell_type": "code",
   "execution_count": 10,
   "id": "3b87a5fe",
   "metadata": {},
   "outputs": [],
   "source": [
    "import numpy as np\n",
    "import pandas as pd"
   ]
  },
  {
   "cell_type": "markdown",
   "id": "0d3e3ffe",
   "metadata": {},
   "source": [
    "### Task 1\n",
    "Load the rating.dat dataset into Pandas as a DataFrame. Please name the four columns as `UserID`, `MovieID`, `Rating` and `Timestamp`. Display the first five rows of the DataFrame"
   ]
  },
  {
   "cell_type": "code",
   "execution_count": 11,
   "id": "1e889abd",
   "metadata": {},
   "outputs": [
    {
     "data": {
      "text/html": [
       "<div>\n",
       "<style scoped>\n",
       "    .dataframe tbody tr th:only-of-type {\n",
       "        vertical-align: middle;\n",
       "    }\n",
       "\n",
       "    .dataframe tbody tr th {\n",
       "        vertical-align: top;\n",
       "    }\n",
       "\n",
       "    .dataframe thead th {\n",
       "        text-align: right;\n",
       "    }\n",
       "</style>\n",
       "<table border=\"1\" class=\"dataframe\">\n",
       "  <thead>\n",
       "    <tr style=\"text-align: right;\">\n",
       "      <th></th>\n",
       "      <th>UserID</th>\n",
       "      <th>MovieID</th>\n",
       "      <th>Rating</th>\n",
       "      <th>Timestamp</th>\n",
       "    </tr>\n",
       "  </thead>\n",
       "  <tbody>\n",
       "    <tr>\n",
       "      <th>0</th>\n",
       "      <td>1</td>\n",
       "      <td>1193</td>\n",
       "      <td>5</td>\n",
       "      <td>978300760</td>\n",
       "    </tr>\n",
       "    <tr>\n",
       "      <th>1</th>\n",
       "      <td>1</td>\n",
       "      <td>661</td>\n",
       "      <td>3</td>\n",
       "      <td>978302109</td>\n",
       "    </tr>\n",
       "    <tr>\n",
       "      <th>2</th>\n",
       "      <td>1</td>\n",
       "      <td>914</td>\n",
       "      <td>3</td>\n",
       "      <td>978301968</td>\n",
       "    </tr>\n",
       "    <tr>\n",
       "      <th>3</th>\n",
       "      <td>1</td>\n",
       "      <td>3408</td>\n",
       "      <td>4</td>\n",
       "      <td>978300275</td>\n",
       "    </tr>\n",
       "    <tr>\n",
       "      <th>4</th>\n",
       "      <td>1</td>\n",
       "      <td>2355</td>\n",
       "      <td>5</td>\n",
       "      <td>978824291</td>\n",
       "    </tr>\n",
       "  </tbody>\n",
       "</table>\n",
       "</div>"
      ],
      "text/plain": [
       "   UserID  MovieID  Rating  Timestamp\n",
       "0       1     1193       5  978300760\n",
       "1       1      661       3  978302109\n",
       "2       1      914       3  978301968\n",
       "3       1     3408       4  978300275\n",
       "4       1     2355       5  978824291"
      ]
     },
     "execution_count": 11,
     "metadata": {},
     "output_type": "execute_result"
    }
   ],
   "source": [
    "ratings_df = pd.read_csv(\n",
    "    'ratings.txt',\n",
    "    sep = '::',\n",
    "    engine = 'python', \n",
    "    names = 'UserID::MovieID::Rating::Timestamp'.split('::')\n",
    ")\n",
    "ratings_df.head()"
   ]
  },
  {
   "cell_type": "code",
   "execution_count": 2,
   "id": "6ef23cbf",
   "metadata": {},
   "outputs": [
    {
     "data": {
      "text/html": [
       "<div>\n",
       "<style scoped>\n",
       "    .dataframe tbody tr th:only-of-type {\n",
       "        vertical-align: middle;\n",
       "    }\n",
       "\n",
       "    .dataframe tbody tr th {\n",
       "        vertical-align: top;\n",
       "    }\n",
       "\n",
       "    .dataframe thead th {\n",
       "        text-align: right;\n",
       "    }\n",
       "</style>\n",
       "<table border=\"1\" class=\"dataframe\">\n",
       "  <thead>\n",
       "    <tr style=\"text-align: right;\">\n",
       "      <th></th>\n",
       "      <th>UserID</th>\n",
       "      <th>MovieID</th>\n",
       "      <th>Rating</th>\n",
       "      <th>Timestamp</th>\n",
       "    </tr>\n",
       "  </thead>\n",
       "  <tbody>\n",
       "    <tr>\n",
       "      <th>0</th>\n",
       "      <td>1</td>\n",
       "      <td>1193</td>\n",
       "      <td>5</td>\n",
       "      <td>978300760</td>\n",
       "    </tr>\n",
       "    <tr>\n",
       "      <th>1</th>\n",
       "      <td>1</td>\n",
       "      <td>661</td>\n",
       "      <td>3</td>\n",
       "      <td>978302109</td>\n",
       "    </tr>\n",
       "    <tr>\n",
       "      <th>2</th>\n",
       "      <td>1</td>\n",
       "      <td>914</td>\n",
       "      <td>3</td>\n",
       "      <td>978301968</td>\n",
       "    </tr>\n",
       "    <tr>\n",
       "      <th>3</th>\n",
       "      <td>1</td>\n",
       "      <td>3408</td>\n",
       "      <td>4</td>\n",
       "      <td>978300275</td>\n",
       "    </tr>\n",
       "    <tr>\n",
       "      <th>4</th>\n",
       "      <td>1</td>\n",
       "      <td>2355</td>\n",
       "      <td>5</td>\n",
       "      <td>978824291</td>\n",
       "    </tr>\n",
       "  </tbody>\n",
       "</table>\n",
       "</div>"
      ],
      "text/plain": [
       "   UserID  MovieID  Rating  Timestamp\n",
       "0       1     1193       5  978300760\n",
       "1       1      661       3  978302109\n",
       "2       1      914       3  978301968\n",
       "3       1     3408       4  978300275\n",
       "4       1     2355       5  978824291"
      ]
     },
     "execution_count": 2,
     "metadata": {},
     "output_type": "execute_result"
    }
   ],
   "source": []
  },
  {
   "cell_type": "markdown",
   "id": "0f8b8b17",
   "metadata": {},
   "source": [
    "### Task 2\n",
    "Load the users.txt dataset into Pandas as a DataFrame. Please name the five columns as `UserID`, `Gender`, `Age`, `Occupation` and `Zip Code`. Display the last five rows of the DataFrame"
   ]
  },
  {
   "cell_type": "code",
   "execution_count": 4,
   "id": "82196e2b",
   "metadata": {},
   "outputs": [
    {
     "data": {
      "text/html": [
       "<div>\n",
       "<style scoped>\n",
       "    .dataframe tbody tr th:only-of-type {\n",
       "        vertical-align: middle;\n",
       "    }\n",
       "\n",
       "    .dataframe tbody tr th {\n",
       "        vertical-align: top;\n",
       "    }\n",
       "\n",
       "    .dataframe thead th {\n",
       "        text-align: right;\n",
       "    }\n",
       "</style>\n",
       "<table border=\"1\" class=\"dataframe\">\n",
       "  <thead>\n",
       "    <tr style=\"text-align: right;\">\n",
       "      <th></th>\n",
       "      <th>UserID</th>\n",
       "      <th>Gender</th>\n",
       "      <th>Age</th>\n",
       "      <th>Occupation</th>\n",
       "      <th>Zip Code</th>\n",
       "    </tr>\n",
       "  </thead>\n",
       "  <tbody>\n",
       "    <tr>\n",
       "      <th>6035</th>\n",
       "      <td>6036</td>\n",
       "      <td>F</td>\n",
       "      <td>25</td>\n",
       "      <td>15</td>\n",
       "      <td>32603</td>\n",
       "    </tr>\n",
       "    <tr>\n",
       "      <th>6036</th>\n",
       "      <td>6037</td>\n",
       "      <td>F</td>\n",
       "      <td>45</td>\n",
       "      <td>1</td>\n",
       "      <td>76006</td>\n",
       "    </tr>\n",
       "    <tr>\n",
       "      <th>6037</th>\n",
       "      <td>6038</td>\n",
       "      <td>F</td>\n",
       "      <td>56</td>\n",
       "      <td>1</td>\n",
       "      <td>14706</td>\n",
       "    </tr>\n",
       "    <tr>\n",
       "      <th>6038</th>\n",
       "      <td>6039</td>\n",
       "      <td>F</td>\n",
       "      <td>45</td>\n",
       "      <td>0</td>\n",
       "      <td>01060</td>\n",
       "    </tr>\n",
       "    <tr>\n",
       "      <th>6039</th>\n",
       "      <td>6040</td>\n",
       "      <td>M</td>\n",
       "      <td>25</td>\n",
       "      <td>6</td>\n",
       "      <td>11106</td>\n",
       "    </tr>\n",
       "  </tbody>\n",
       "</table>\n",
       "</div>"
      ],
      "text/plain": [
       "      UserID Gender  Age  Occupation Zip Code\n",
       "6035    6036      F   25          15    32603\n",
       "6036    6037      F   45           1    76006\n",
       "6037    6038      F   56           1    14706\n",
       "6038    6039      F   45           0    01060\n",
       "6039    6040      M   25           6    11106"
      ]
     },
     "execution_count": 4,
     "metadata": {},
     "output_type": "execute_result"
    }
   ],
   "source": [
    "users_df = pd.read_csv(\n",
    "    'users.txt',\n",
    "    sep = '::',\n",
    "    engine = 'python', \n",
    "    names = 'UserID::Gender::Age::Occupation::Zip Code'.split('::')\n",
    ")\n",
    "users_df.tail()"
   ]
  },
  {
   "cell_type": "code",
   "execution_count": 3,
   "id": "127caac6",
   "metadata": {},
   "outputs": [
    {
     "data": {
      "text/html": [
       "<div>\n",
       "<style scoped>\n",
       "    .dataframe tbody tr th:only-of-type {\n",
       "        vertical-align: middle;\n",
       "    }\n",
       "\n",
       "    .dataframe tbody tr th {\n",
       "        vertical-align: top;\n",
       "    }\n",
       "\n",
       "    .dataframe thead th {\n",
       "        text-align: right;\n",
       "    }\n",
       "</style>\n",
       "<table border=\"1\" class=\"dataframe\">\n",
       "  <thead>\n",
       "    <tr style=\"text-align: right;\">\n",
       "      <th></th>\n",
       "      <th>UserID</th>\n",
       "      <th>Gender</th>\n",
       "      <th>Age</th>\n",
       "      <th>Occupation</th>\n",
       "      <th>Zip Code</th>\n",
       "    </tr>\n",
       "  </thead>\n",
       "  <tbody>\n",
       "    <tr>\n",
       "      <th>6035</th>\n",
       "      <td>6036</td>\n",
       "      <td>F</td>\n",
       "      <td>25</td>\n",
       "      <td>15</td>\n",
       "      <td>32603</td>\n",
       "    </tr>\n",
       "    <tr>\n",
       "      <th>6036</th>\n",
       "      <td>6037</td>\n",
       "      <td>F</td>\n",
       "      <td>45</td>\n",
       "      <td>1</td>\n",
       "      <td>76006</td>\n",
       "    </tr>\n",
       "    <tr>\n",
       "      <th>6037</th>\n",
       "      <td>6038</td>\n",
       "      <td>F</td>\n",
       "      <td>56</td>\n",
       "      <td>1</td>\n",
       "      <td>14706</td>\n",
       "    </tr>\n",
       "    <tr>\n",
       "      <th>6038</th>\n",
       "      <td>6039</td>\n",
       "      <td>F</td>\n",
       "      <td>45</td>\n",
       "      <td>0</td>\n",
       "      <td>01060</td>\n",
       "    </tr>\n",
       "    <tr>\n",
       "      <th>6039</th>\n",
       "      <td>6040</td>\n",
       "      <td>M</td>\n",
       "      <td>25</td>\n",
       "      <td>6</td>\n",
       "      <td>11106</td>\n",
       "    </tr>\n",
       "  </tbody>\n",
       "</table>\n",
       "</div>"
      ],
      "text/plain": [
       "      UserID Gender  Age  Occupation Zip Code\n",
       "6035    6036      F   25          15    32603\n",
       "6036    6037      F   45           1    76006\n",
       "6037    6038      F   56           1    14706\n",
       "6038    6039      F   45           0    01060\n",
       "6039    6040      M   25           6    11106"
      ]
     },
     "execution_count": 3,
     "metadata": {},
     "output_type": "execute_result"
    }
   ],
   "source": []
  },
  {
   "cell_type": "markdown",
   "id": "6078ff87",
   "metadata": {},
   "source": [
    "### Task 3\n",
    "For the DataFrame obtained from Task 2, convert column `UserID` into row index"
   ]
  },
  {
   "cell_type": "code",
   "execution_count": 5,
   "id": "259a6bca",
   "metadata": {},
   "outputs": [
    {
     "data": {
      "text/html": [
       "<div>\n",
       "<style scoped>\n",
       "    .dataframe tbody tr th:only-of-type {\n",
       "        vertical-align: middle;\n",
       "    }\n",
       "\n",
       "    .dataframe tbody tr th {\n",
       "        vertical-align: top;\n",
       "    }\n",
       "\n",
       "    .dataframe thead th {\n",
       "        text-align: right;\n",
       "    }\n",
       "</style>\n",
       "<table border=\"1\" class=\"dataframe\">\n",
       "  <thead>\n",
       "    <tr style=\"text-align: right;\">\n",
       "      <th></th>\n",
       "      <th>Gender</th>\n",
       "      <th>Age</th>\n",
       "      <th>Occupation</th>\n",
       "      <th>Zip Code</th>\n",
       "    </tr>\n",
       "    <tr>\n",
       "      <th>UserID</th>\n",
       "      <th></th>\n",
       "      <th></th>\n",
       "      <th></th>\n",
       "      <th></th>\n",
       "    </tr>\n",
       "  </thead>\n",
       "  <tbody>\n",
       "    <tr>\n",
       "      <th>1</th>\n",
       "      <td>F</td>\n",
       "      <td>1</td>\n",
       "      <td>10</td>\n",
       "      <td>48067</td>\n",
       "    </tr>\n",
       "    <tr>\n",
       "      <th>2</th>\n",
       "      <td>M</td>\n",
       "      <td>56</td>\n",
       "      <td>16</td>\n",
       "      <td>70072</td>\n",
       "    </tr>\n",
       "    <tr>\n",
       "      <th>3</th>\n",
       "      <td>M</td>\n",
       "      <td>25</td>\n",
       "      <td>15</td>\n",
       "      <td>55117</td>\n",
       "    </tr>\n",
       "    <tr>\n",
       "      <th>4</th>\n",
       "      <td>M</td>\n",
       "      <td>45</td>\n",
       "      <td>7</td>\n",
       "      <td>02460</td>\n",
       "    </tr>\n",
       "    <tr>\n",
       "      <th>5</th>\n",
       "      <td>M</td>\n",
       "      <td>25</td>\n",
       "      <td>20</td>\n",
       "      <td>55455</td>\n",
       "    </tr>\n",
       "  </tbody>\n",
       "</table>\n",
       "</div>"
      ],
      "text/plain": [
       "       Gender  Age  Occupation Zip Code\n",
       "UserID                                 \n",
       "1           F    1          10    48067\n",
       "2           M   56          16    70072\n",
       "3           M   25          15    55117\n",
       "4           M   45           7    02460\n",
       "5           M   25          20    55455"
      ]
     },
     "execution_count": 5,
     "metadata": {},
     "output_type": "execute_result"
    }
   ],
   "source": [
    "userid_row_index_df = users_df.set_index('UserID')\n",
    "userid_row_index_df.head()"
   ]
  },
  {
   "cell_type": "code",
   "execution_count": 4,
   "id": "1d4d571b",
   "metadata": {},
   "outputs": [
    {
     "data": {
      "text/html": [
       "<div>\n",
       "<style scoped>\n",
       "    .dataframe tbody tr th:only-of-type {\n",
       "        vertical-align: middle;\n",
       "    }\n",
       "\n",
       "    .dataframe tbody tr th {\n",
       "        vertical-align: top;\n",
       "    }\n",
       "\n",
       "    .dataframe thead th {\n",
       "        text-align: right;\n",
       "    }\n",
       "</style>\n",
       "<table border=\"1\" class=\"dataframe\">\n",
       "  <thead>\n",
       "    <tr style=\"text-align: right;\">\n",
       "      <th></th>\n",
       "      <th>Gender</th>\n",
       "      <th>Age</th>\n",
       "      <th>Occupation</th>\n",
       "      <th>Zip Code</th>\n",
       "    </tr>\n",
       "    <tr>\n",
       "      <th>UserID</th>\n",
       "      <th></th>\n",
       "      <th></th>\n",
       "      <th></th>\n",
       "      <th></th>\n",
       "    </tr>\n",
       "  </thead>\n",
       "  <tbody>\n",
       "    <tr>\n",
       "      <th>1</th>\n",
       "      <td>F</td>\n",
       "      <td>1</td>\n",
       "      <td>10</td>\n",
       "      <td>48067</td>\n",
       "    </tr>\n",
       "    <tr>\n",
       "      <th>2</th>\n",
       "      <td>M</td>\n",
       "      <td>56</td>\n",
       "      <td>16</td>\n",
       "      <td>70072</td>\n",
       "    </tr>\n",
       "    <tr>\n",
       "      <th>3</th>\n",
       "      <td>M</td>\n",
       "      <td>25</td>\n",
       "      <td>15</td>\n",
       "      <td>55117</td>\n",
       "    </tr>\n",
       "    <tr>\n",
       "      <th>4</th>\n",
       "      <td>M</td>\n",
       "      <td>45</td>\n",
       "      <td>7</td>\n",
       "      <td>02460</td>\n",
       "    </tr>\n",
       "    <tr>\n",
       "      <th>5</th>\n",
       "      <td>M</td>\n",
       "      <td>25</td>\n",
       "      <td>20</td>\n",
       "      <td>55455</td>\n",
       "    </tr>\n",
       "  </tbody>\n",
       "</table>\n",
       "</div>"
      ],
      "text/plain": [
       "       Gender  Age  Occupation Zip Code\n",
       "UserID                                 \n",
       "1           F    1          10    48067\n",
       "2           M   56          16    70072\n",
       "3           M   25          15    55117\n",
       "4           M   45           7    02460\n",
       "5           M   25          20    55455"
      ]
     },
     "execution_count": 4,
     "metadata": {},
     "output_type": "execute_result"
    }
   ],
   "source": []
  },
  {
   "cell_type": "markdown",
   "id": "abdfb617",
   "metadata": {},
   "source": [
    "### Task 4\n",
    "Reconstruct the `Age` column in the DataFrame obtained from Task 3 by using the age map shown in the lab instructions"
   ]
  },
  {
   "cell_type": "code",
   "execution_count": 6,
   "id": "96b0e2a9",
   "metadata": {},
   "outputs": [
    {
     "data": {
      "text/html": [
       "<div>\n",
       "<style scoped>\n",
       "    .dataframe tbody tr th:only-of-type {\n",
       "        vertical-align: middle;\n",
       "    }\n",
       "\n",
       "    .dataframe tbody tr th {\n",
       "        vertical-align: top;\n",
       "    }\n",
       "\n",
       "    .dataframe thead th {\n",
       "        text-align: right;\n",
       "    }\n",
       "</style>\n",
       "<table border=\"1\" class=\"dataframe\">\n",
       "  <thead>\n",
       "    <tr style=\"text-align: right;\">\n",
       "      <th></th>\n",
       "      <th>Gender</th>\n",
       "      <th>Age</th>\n",
       "      <th>Occupation</th>\n",
       "      <th>Zip Code</th>\n",
       "    </tr>\n",
       "    <tr>\n",
       "      <th>UserID</th>\n",
       "      <th></th>\n",
       "      <th></th>\n",
       "      <th></th>\n",
       "      <th></th>\n",
       "    </tr>\n",
       "  </thead>\n",
       "  <tbody>\n",
       "    <tr>\n",
       "      <th>1</th>\n",
       "      <td>F</td>\n",
       "      <td>Under 18</td>\n",
       "      <td>10</td>\n",
       "      <td>48067</td>\n",
       "    </tr>\n",
       "    <tr>\n",
       "      <th>2</th>\n",
       "      <td>M</td>\n",
       "      <td>56+</td>\n",
       "      <td>16</td>\n",
       "      <td>70072</td>\n",
       "    </tr>\n",
       "    <tr>\n",
       "      <th>3</th>\n",
       "      <td>M</td>\n",
       "      <td>25-34</td>\n",
       "      <td>15</td>\n",
       "      <td>55117</td>\n",
       "    </tr>\n",
       "    <tr>\n",
       "      <th>4</th>\n",
       "      <td>M</td>\n",
       "      <td>45-49</td>\n",
       "      <td>7</td>\n",
       "      <td>02460</td>\n",
       "    </tr>\n",
       "    <tr>\n",
       "      <th>5</th>\n",
       "      <td>M</td>\n",
       "      <td>25-34</td>\n",
       "      <td>20</td>\n",
       "      <td>55455</td>\n",
       "    </tr>\n",
       "  </tbody>\n",
       "</table>\n",
       "</div>"
      ],
      "text/plain": [
       "       Gender       Age  Occupation Zip Code\n",
       "UserID                                      \n",
       "1           F  Under 18          10    48067\n",
       "2           M       56+          16    70072\n",
       "3           M     25-34          15    55117\n",
       "4           M     45-49           7    02460\n",
       "5           M     25-34          20    55455"
      ]
     },
     "execution_count": 6,
     "metadata": {},
     "output_type": "execute_result"
    }
   ],
   "source": [
    "def age_type(x):\n",
    "    if x['Age'] >= 1 and x['Age'] < 18:\n",
    "        return 'Under 18'\n",
    "    if x['Age'] >= 18 and x['Age'] < 24:\n",
    "        return '18-24'\n",
    "    if x['Age'] >= 24 and x['Age'] < 34:\n",
    "        return '25-34'\n",
    "    if x['Age'] >= 35 and x['Age'] < 44:\n",
    "        return '35-44'\n",
    "    if x['Age'] >= 45 and x['Age'] < 49:\n",
    "        return '45-49'\n",
    "    if x['Age'] >= 50 and x['Age'] < 55:\n",
    "        return '50-55'\n",
    "    return '56+'\n",
    "\n",
    "userid_row_index_df['Age'] = userid_row_index_df.apply(age_type, axis = 1) \n",
    "userid_row_index_df.head()"
   ]
  },
  {
   "cell_type": "code",
   "execution_count": 5,
   "id": "95ecb185",
   "metadata": {},
   "outputs": [
    {
     "data": {
      "text/html": [
       "<div>\n",
       "<style scoped>\n",
       "    .dataframe tbody tr th:only-of-type {\n",
       "        vertical-align: middle;\n",
       "    }\n",
       "\n",
       "    .dataframe tbody tr th {\n",
       "        vertical-align: top;\n",
       "    }\n",
       "\n",
       "    .dataframe thead th {\n",
       "        text-align: right;\n",
       "    }\n",
       "</style>\n",
       "<table border=\"1\" class=\"dataframe\">\n",
       "  <thead>\n",
       "    <tr style=\"text-align: right;\">\n",
       "      <th></th>\n",
       "      <th>Gender</th>\n",
       "      <th>Age</th>\n",
       "      <th>Occupation</th>\n",
       "      <th>Zip Code</th>\n",
       "    </tr>\n",
       "    <tr>\n",
       "      <th>UserID</th>\n",
       "      <th></th>\n",
       "      <th></th>\n",
       "      <th></th>\n",
       "      <th></th>\n",
       "    </tr>\n",
       "  </thead>\n",
       "  <tbody>\n",
       "    <tr>\n",
       "      <th>1</th>\n",
       "      <td>F</td>\n",
       "      <td>Under 18</td>\n",
       "      <td>10</td>\n",
       "      <td>48067</td>\n",
       "    </tr>\n",
       "    <tr>\n",
       "      <th>2</th>\n",
       "      <td>M</td>\n",
       "      <td>56+</td>\n",
       "      <td>16</td>\n",
       "      <td>70072</td>\n",
       "    </tr>\n",
       "    <tr>\n",
       "      <th>3</th>\n",
       "      <td>M</td>\n",
       "      <td>25-34</td>\n",
       "      <td>15</td>\n",
       "      <td>55117</td>\n",
       "    </tr>\n",
       "    <tr>\n",
       "      <th>4</th>\n",
       "      <td>M</td>\n",
       "      <td>45-49</td>\n",
       "      <td>7</td>\n",
       "      <td>02460</td>\n",
       "    </tr>\n",
       "    <tr>\n",
       "      <th>5</th>\n",
       "      <td>M</td>\n",
       "      <td>25-34</td>\n",
       "      <td>20</td>\n",
       "      <td>55455</td>\n",
       "    </tr>\n",
       "  </tbody>\n",
       "</table>\n",
       "</div>"
      ],
      "text/plain": [
       "       Gender       Age  Occupation Zip Code\n",
       "UserID                                      \n",
       "1           F  Under 18          10    48067\n",
       "2           M       56+          16    70072\n",
       "3           M     25-34          15    55117\n",
       "4           M     45-49           7    02460\n",
       "5           M     25-34          20    55455"
      ]
     },
     "execution_count": 5,
     "metadata": {},
     "output_type": "execute_result"
    }
   ],
   "source": []
  },
  {
   "cell_type": "markdown",
   "id": "1c84ae23",
   "metadata": {},
   "source": [
    "### Task 5\n",
    "Reconstruct the `Occupation` column in the DataFrame obtained from Task 4 by using the occupation map shown in the lab instructions"
   ]
  },
  {
   "cell_type": "code",
   "execution_count": 7,
   "id": "41cb25e1",
   "metadata": {},
   "outputs": [
    {
     "data": {
      "text/html": [
       "<div>\n",
       "<style scoped>\n",
       "    .dataframe tbody tr th:only-of-type {\n",
       "        vertical-align: middle;\n",
       "    }\n",
       "\n",
       "    .dataframe tbody tr th {\n",
       "        vertical-align: top;\n",
       "    }\n",
       "\n",
       "    .dataframe thead th {\n",
       "        text-align: right;\n",
       "    }\n",
       "</style>\n",
       "<table border=\"1\" class=\"dataframe\">\n",
       "  <thead>\n",
       "    <tr style=\"text-align: right;\">\n",
       "      <th></th>\n",
       "      <th>Gender</th>\n",
       "      <th>Age</th>\n",
       "      <th>Occupation</th>\n",
       "      <th>Zip Code</th>\n",
       "    </tr>\n",
       "    <tr>\n",
       "      <th>UserID</th>\n",
       "      <th></th>\n",
       "      <th></th>\n",
       "      <th></th>\n",
       "      <th></th>\n",
       "    </tr>\n",
       "  </thead>\n",
       "  <tbody>\n",
       "    <tr>\n",
       "      <th>1</th>\n",
       "      <td>F</td>\n",
       "      <td>Under 18</td>\n",
       "      <td>K-12 student</td>\n",
       "      <td>48067</td>\n",
       "    </tr>\n",
       "    <tr>\n",
       "      <th>2</th>\n",
       "      <td>M</td>\n",
       "      <td>56+</td>\n",
       "      <td>self-employed</td>\n",
       "      <td>70072</td>\n",
       "    </tr>\n",
       "    <tr>\n",
       "      <th>3</th>\n",
       "      <td>M</td>\n",
       "      <td>25-34</td>\n",
       "      <td>scientist</td>\n",
       "      <td>55117</td>\n",
       "    </tr>\n",
       "    <tr>\n",
       "      <th>4</th>\n",
       "      <td>M</td>\n",
       "      <td>45-49</td>\n",
       "      <td>executive/managerial</td>\n",
       "      <td>02460</td>\n",
       "    </tr>\n",
       "    <tr>\n",
       "      <th>5</th>\n",
       "      <td>M</td>\n",
       "      <td>25-34</td>\n",
       "      <td>writer</td>\n",
       "      <td>55455</td>\n",
       "    </tr>\n",
       "  </tbody>\n",
       "</table>\n",
       "</div>"
      ],
      "text/plain": [
       "       Gender       Age            Occupation Zip Code\n",
       "UserID                                                \n",
       "1           F  Under 18          K-12 student    48067\n",
       "2           M       56+         self-employed    70072\n",
       "3           M     25-34             scientist    55117\n",
       "4           M     45-49  executive/managerial    02460\n",
       "5           M     25-34                writer    55455"
      ]
     },
     "execution_count": 7,
     "metadata": {},
     "output_type": "execute_result"
    }
   ],
   "source": [
    "def occupation_type(x):\n",
    "    if x['Occupation'] == 0:\n",
    "        return '\"other\" or not specified'\n",
    "    if x['Occupation'] == 1:\n",
    "        return 'academic/educator'\n",
    "    if x['Occupation'] == 2:\n",
    "        return 'artist'\n",
    "    if x['Occupation'] == 3:\n",
    "        return 'clerical/admin'\n",
    "    if x['Occupation'] == 4:\n",
    "        return 'college/grad student'\n",
    "    if x['Occupation'] == 5:\n",
    "        return 'customer service'\n",
    "    if x['Occupation'] == 6:\n",
    "        return 'doctor/health care'\n",
    "    if x['Occupation'] == 7:\n",
    "        return 'executive/managerial'\n",
    "    if x['Occupation'] == 8:\n",
    "        return 'farmer'\n",
    "    if x['Occupation'] == 9:\n",
    "        return 'homemaker'\n",
    "    if x['Occupation'] == 10:\n",
    "        return 'K-12 student'\n",
    "    if x['Occupation'] == 11:\n",
    "        return 'lawyer'\n",
    "    if x['Occupation'] == 12:\n",
    "        return 'programmer'\n",
    "    if x['Occupation'] == 13:\n",
    "        return 'retired'\n",
    "    if x['Occupation'] == 14:\n",
    "        return 'sales/marketing'\n",
    "    if x['Occupation'] == 15:\n",
    "        return 'scientist'\n",
    "    if x['Occupation'] == 16:\n",
    "        return 'self-employed'\n",
    "    if x['Occupation'] == 17:\n",
    "        return 'technician/engineer'\n",
    "    if x['Occupation'] == 18:\n",
    "        return 'tradesman/craftsman'\n",
    "    if x['Occupation'] == 19:\n",
    "        return 'unemployed'\n",
    "    return 'writer'\n",
    "\n",
    "userid_row_index_df['Occupation'] = userid_row_index_df.apply(occupation_type, axis = 1) \n",
    "userid_row_index_df.head()"
   ]
  },
  {
   "cell_type": "code",
   "execution_count": 6,
   "id": "be23c1b4",
   "metadata": {},
   "outputs": [
    {
     "data": {
      "text/html": [
       "<div>\n",
       "<style scoped>\n",
       "    .dataframe tbody tr th:only-of-type {\n",
       "        vertical-align: middle;\n",
       "    }\n",
       "\n",
       "    .dataframe tbody tr th {\n",
       "        vertical-align: top;\n",
       "    }\n",
       "\n",
       "    .dataframe thead th {\n",
       "        text-align: right;\n",
       "    }\n",
       "</style>\n",
       "<table border=\"1\" class=\"dataframe\">\n",
       "  <thead>\n",
       "    <tr style=\"text-align: right;\">\n",
       "      <th></th>\n",
       "      <th>Gender</th>\n",
       "      <th>Age</th>\n",
       "      <th>Occupation</th>\n",
       "      <th>Zip Code</th>\n",
       "    </tr>\n",
       "    <tr>\n",
       "      <th>UserID</th>\n",
       "      <th></th>\n",
       "      <th></th>\n",
       "      <th></th>\n",
       "      <th></th>\n",
       "    </tr>\n",
       "  </thead>\n",
       "  <tbody>\n",
       "    <tr>\n",
       "      <th>1</th>\n",
       "      <td>F</td>\n",
       "      <td>Under 18</td>\n",
       "      <td>K-12 student</td>\n",
       "      <td>48067</td>\n",
       "    </tr>\n",
       "    <tr>\n",
       "      <th>2</th>\n",
       "      <td>M</td>\n",
       "      <td>56+</td>\n",
       "      <td>self-employed</td>\n",
       "      <td>70072</td>\n",
       "    </tr>\n",
       "    <tr>\n",
       "      <th>3</th>\n",
       "      <td>M</td>\n",
       "      <td>25-34</td>\n",
       "      <td>scientist</td>\n",
       "      <td>55117</td>\n",
       "    </tr>\n",
       "    <tr>\n",
       "      <th>4</th>\n",
       "      <td>M</td>\n",
       "      <td>45-49</td>\n",
       "      <td>executive/managerial</td>\n",
       "      <td>02460</td>\n",
       "    </tr>\n",
       "    <tr>\n",
       "      <th>5</th>\n",
       "      <td>M</td>\n",
       "      <td>25-34</td>\n",
       "      <td>writer</td>\n",
       "      <td>55455</td>\n",
       "    </tr>\n",
       "  </tbody>\n",
       "</table>\n",
       "</div>"
      ],
      "text/plain": [
       "       Gender       Age            Occupation Zip Code\n",
       "UserID                                                \n",
       "1           F  Under 18          K-12 student    48067\n",
       "2           M       56+         self-employed    70072\n",
       "3           M     25-34             scientist    55117\n",
       "4           M     45-49  executive/managerial    02460\n",
       "5           M     25-34                writer    55455"
      ]
     },
     "execution_count": 6,
     "metadata": {},
     "output_type": "execute_result"
    }
   ],
   "source": []
  },
  {
   "cell_type": "markdown",
   "id": "c9ac0a25",
   "metadata": {},
   "source": [
    "### Task 6\n",
    "Merge the Ratings table obtained from Task 1 and the Users table from Task 5 together using the `outer` merge"
   ]
  },
  {
   "cell_type": "code",
   "execution_count": 8,
   "id": "2a2f2d1a",
   "metadata": {},
   "outputs": [
    {
     "data": {
      "text/html": [
       "<div>\n",
       "<style scoped>\n",
       "    .dataframe tbody tr th:only-of-type {\n",
       "        vertical-align: middle;\n",
       "    }\n",
       "\n",
       "    .dataframe tbody tr th {\n",
       "        vertical-align: top;\n",
       "    }\n",
       "\n",
       "    .dataframe thead th {\n",
       "        text-align: right;\n",
       "    }\n",
       "</style>\n",
       "<table border=\"1\" class=\"dataframe\">\n",
       "  <thead>\n",
       "    <tr style=\"text-align: right;\">\n",
       "      <th></th>\n",
       "      <th>UserID</th>\n",
       "      <th>MovieID</th>\n",
       "      <th>Rating</th>\n",
       "      <th>Timestamp</th>\n",
       "      <th>Gender</th>\n",
       "      <th>Age</th>\n",
       "      <th>Occupation</th>\n",
       "      <th>Zip Code</th>\n",
       "    </tr>\n",
       "  </thead>\n",
       "  <tbody>\n",
       "    <tr>\n",
       "      <th>0</th>\n",
       "      <td>1</td>\n",
       "      <td>1193</td>\n",
       "      <td>5</td>\n",
       "      <td>978300760</td>\n",
       "      <td>F</td>\n",
       "      <td>Under 18</td>\n",
       "      <td>K-12 student</td>\n",
       "      <td>48067</td>\n",
       "    </tr>\n",
       "    <tr>\n",
       "      <th>1</th>\n",
       "      <td>1</td>\n",
       "      <td>661</td>\n",
       "      <td>3</td>\n",
       "      <td>978302109</td>\n",
       "      <td>F</td>\n",
       "      <td>Under 18</td>\n",
       "      <td>K-12 student</td>\n",
       "      <td>48067</td>\n",
       "    </tr>\n",
       "    <tr>\n",
       "      <th>2</th>\n",
       "      <td>1</td>\n",
       "      <td>914</td>\n",
       "      <td>3</td>\n",
       "      <td>978301968</td>\n",
       "      <td>F</td>\n",
       "      <td>Under 18</td>\n",
       "      <td>K-12 student</td>\n",
       "      <td>48067</td>\n",
       "    </tr>\n",
       "    <tr>\n",
       "      <th>3</th>\n",
       "      <td>1</td>\n",
       "      <td>3408</td>\n",
       "      <td>4</td>\n",
       "      <td>978300275</td>\n",
       "      <td>F</td>\n",
       "      <td>Under 18</td>\n",
       "      <td>K-12 student</td>\n",
       "      <td>48067</td>\n",
       "    </tr>\n",
       "    <tr>\n",
       "      <th>4</th>\n",
       "      <td>1</td>\n",
       "      <td>2355</td>\n",
       "      <td>5</td>\n",
       "      <td>978824291</td>\n",
       "      <td>F</td>\n",
       "      <td>Under 18</td>\n",
       "      <td>K-12 student</td>\n",
       "      <td>48067</td>\n",
       "    </tr>\n",
       "  </tbody>\n",
       "</table>\n",
       "</div>"
      ],
      "text/plain": [
       "   UserID  MovieID  Rating  Timestamp Gender       Age    Occupation Zip Code\n",
       "0       1     1193       5  978300760      F  Under 18  K-12 student    48067\n",
       "1       1      661       3  978302109      F  Under 18  K-12 student    48067\n",
       "2       1      914       3  978301968      F  Under 18  K-12 student    48067\n",
       "3       1     3408       4  978300275      F  Under 18  K-12 student    48067\n",
       "4       1     2355       5  978824291      F  Under 18  K-12 student    48067"
      ]
     },
     "execution_count": 8,
     "metadata": {},
     "output_type": "execute_result"
    }
   ],
   "source": [
    "userid_row_index_df.reset_index(inplace=True)\n",
    "ratings_users_merge_df = pd.merge(ratings_df, userid_row_index_df, how = 'outer')\n",
    "ratings_users_merge_df.head()"
   ]
  },
  {
   "cell_type": "code",
   "execution_count": 7,
   "id": "0cb224ab",
   "metadata": {},
   "outputs": [
    {
     "data": {
      "text/html": [
       "<div>\n",
       "<style scoped>\n",
       "    .dataframe tbody tr th:only-of-type {\n",
       "        vertical-align: middle;\n",
       "    }\n",
       "\n",
       "    .dataframe tbody tr th {\n",
       "        vertical-align: top;\n",
       "    }\n",
       "\n",
       "    .dataframe thead th {\n",
       "        text-align: right;\n",
       "    }\n",
       "</style>\n",
       "<table border=\"1\" class=\"dataframe\">\n",
       "  <thead>\n",
       "    <tr style=\"text-align: right;\">\n",
       "      <th></th>\n",
       "      <th>UserID</th>\n",
       "      <th>MovieID</th>\n",
       "      <th>Rating</th>\n",
       "      <th>Timestamp</th>\n",
       "      <th>Gender</th>\n",
       "      <th>Age</th>\n",
       "      <th>Occupation</th>\n",
       "      <th>Zip Code</th>\n",
       "    </tr>\n",
       "  </thead>\n",
       "  <tbody>\n",
       "    <tr>\n",
       "      <th>0</th>\n",
       "      <td>1</td>\n",
       "      <td>1193</td>\n",
       "      <td>5</td>\n",
       "      <td>978300760</td>\n",
       "      <td>F</td>\n",
       "      <td>Under 18</td>\n",
       "      <td>K-12 student</td>\n",
       "      <td>48067</td>\n",
       "    </tr>\n",
       "    <tr>\n",
       "      <th>1</th>\n",
       "      <td>1</td>\n",
       "      <td>661</td>\n",
       "      <td>3</td>\n",
       "      <td>978302109</td>\n",
       "      <td>F</td>\n",
       "      <td>Under 18</td>\n",
       "      <td>K-12 student</td>\n",
       "      <td>48067</td>\n",
       "    </tr>\n",
       "    <tr>\n",
       "      <th>2</th>\n",
       "      <td>1</td>\n",
       "      <td>914</td>\n",
       "      <td>3</td>\n",
       "      <td>978301968</td>\n",
       "      <td>F</td>\n",
       "      <td>Under 18</td>\n",
       "      <td>K-12 student</td>\n",
       "      <td>48067</td>\n",
       "    </tr>\n",
       "    <tr>\n",
       "      <th>3</th>\n",
       "      <td>1</td>\n",
       "      <td>3408</td>\n",
       "      <td>4</td>\n",
       "      <td>978300275</td>\n",
       "      <td>F</td>\n",
       "      <td>Under 18</td>\n",
       "      <td>K-12 student</td>\n",
       "      <td>48067</td>\n",
       "    </tr>\n",
       "    <tr>\n",
       "      <th>4</th>\n",
       "      <td>1</td>\n",
       "      <td>2355</td>\n",
       "      <td>5</td>\n",
       "      <td>978824291</td>\n",
       "      <td>F</td>\n",
       "      <td>Under 18</td>\n",
       "      <td>K-12 student</td>\n",
       "      <td>48067</td>\n",
       "    </tr>\n",
       "  </tbody>\n",
       "</table>\n",
       "</div>"
      ],
      "text/plain": [
       "   UserID  MovieID  Rating  Timestamp Gender       Age    Occupation Zip Code\n",
       "0       1     1193       5  978300760      F  Under 18  K-12 student    48067\n",
       "1       1      661       3  978302109      F  Under 18  K-12 student    48067\n",
       "2       1      914       3  978301968      F  Under 18  K-12 student    48067\n",
       "3       1     3408       4  978300275      F  Under 18  K-12 student    48067\n",
       "4       1     2355       5  978824291      F  Under 18  K-12 student    48067"
      ]
     },
     "execution_count": 7,
     "metadata": {},
     "output_type": "execute_result"
    }
   ],
   "source": []
  },
  {
   "cell_type": "markdown",
   "id": "ca9bae8e",
   "metadata": {},
   "source": [
    "### Task 7\n",
    "Load the movies.txt dataset into Pandas as a DataFrame. Please name the three columns as `MovieID`, `Title` and `Genres`. Display the first three rows of the DataFrame"
   ]
  },
  {
   "cell_type": "code",
   "execution_count": 9,
   "id": "d67bc7f3",
   "metadata": {},
   "outputs": [
    {
     "data": {
      "text/html": [
       "<div>\n",
       "<style scoped>\n",
       "    .dataframe tbody tr th:only-of-type {\n",
       "        vertical-align: middle;\n",
       "    }\n",
       "\n",
       "    .dataframe tbody tr th {\n",
       "        vertical-align: top;\n",
       "    }\n",
       "\n",
       "    .dataframe thead th {\n",
       "        text-align: right;\n",
       "    }\n",
       "</style>\n",
       "<table border=\"1\" class=\"dataframe\">\n",
       "  <thead>\n",
       "    <tr style=\"text-align: right;\">\n",
       "      <th></th>\n",
       "      <th>MovieID</th>\n",
       "      <th>Title</th>\n",
       "      <th>Genres</th>\n",
       "    </tr>\n",
       "  </thead>\n",
       "  <tbody>\n",
       "    <tr>\n",
       "      <th>0</th>\n",
       "      <td>1</td>\n",
       "      <td>Toy Story (1995)</td>\n",
       "      <td>Animation|Children's|Comedy</td>\n",
       "    </tr>\n",
       "    <tr>\n",
       "      <th>1</th>\n",
       "      <td>2</td>\n",
       "      <td>Jumanji (1995)</td>\n",
       "      <td>Adventure|Children's|Fantasy</td>\n",
       "    </tr>\n",
       "    <tr>\n",
       "      <th>2</th>\n",
       "      <td>3</td>\n",
       "      <td>Grumpier Old Men (1995)</td>\n",
       "      <td>Comedy|Romance</td>\n",
       "    </tr>\n",
       "  </tbody>\n",
       "</table>\n",
       "</div>"
      ],
      "text/plain": [
       "   MovieID                    Title                        Genres\n",
       "0        1         Toy Story (1995)   Animation|Children's|Comedy\n",
       "1        2           Jumanji (1995)  Adventure|Children's|Fantasy\n",
       "2        3  Grumpier Old Men (1995)                Comedy|Romance"
      ]
     },
     "execution_count": 9,
     "metadata": {},
     "output_type": "execute_result"
    }
   ],
   "source": [
    "movies_df = pd.read_csv(\n",
    "    'movies.txt',\n",
    "    sep = '::',\n",
    "    engine = 'python', \n",
    "    names = 'MovieID::Title::Genres'.split('::'),\n",
    "    encoding='latin-1'\n",
    ")\n",
    "movies_df.head(3)"
   ]
  },
  {
   "cell_type": "code",
   "execution_count": 8,
   "id": "03b1689f",
   "metadata": {},
   "outputs": [
    {
     "data": {
      "text/html": [
       "<div>\n",
       "<style scoped>\n",
       "    .dataframe tbody tr th:only-of-type {\n",
       "        vertical-align: middle;\n",
       "    }\n",
       "\n",
       "    .dataframe tbody tr th {\n",
       "        vertical-align: top;\n",
       "    }\n",
       "\n",
       "    .dataframe thead th {\n",
       "        text-align: right;\n",
       "    }\n",
       "</style>\n",
       "<table border=\"1\" class=\"dataframe\">\n",
       "  <thead>\n",
       "    <tr style=\"text-align: right;\">\n",
       "      <th></th>\n",
       "      <th>MovieID</th>\n",
       "      <th>Title</th>\n",
       "      <th>Genres</th>\n",
       "    </tr>\n",
       "  </thead>\n",
       "  <tbody>\n",
       "    <tr>\n",
       "      <th>0</th>\n",
       "      <td>1</td>\n",
       "      <td>Toy Story (1995)</td>\n",
       "      <td>Animation|Children's|Comedy</td>\n",
       "    </tr>\n",
       "    <tr>\n",
       "      <th>1</th>\n",
       "      <td>2</td>\n",
       "      <td>Jumanji (1995)</td>\n",
       "      <td>Adventure|Children's|Fantasy</td>\n",
       "    </tr>\n",
       "    <tr>\n",
       "      <th>2</th>\n",
       "      <td>3</td>\n",
       "      <td>Grumpier Old Men (1995)</td>\n",
       "      <td>Comedy|Romance</td>\n",
       "    </tr>\n",
       "  </tbody>\n",
       "</table>\n",
       "</div>"
      ],
      "text/plain": [
       "   MovieID                    Title                        Genres\n",
       "0        1         Toy Story (1995)   Animation|Children's|Comedy\n",
       "1        2           Jumanji (1995)  Adventure|Children's|Fantasy\n",
       "2        3  Grumpier Old Men (1995)                Comedy|Romance"
      ]
     },
     "execution_count": 8,
     "metadata": {},
     "output_type": "execute_result"
    }
   ],
   "source": []
  },
  {
   "cell_type": "markdown",
   "id": "16eb2e6f",
   "metadata": {},
   "source": [
    "### Task 8\n",
    "Merge the the table from Task 6 and the Movies table obtained from Task 7 together using the `outer` merge"
   ]
  },
  {
   "cell_type": "code",
   "execution_count": 10,
   "id": "f20d3904",
   "metadata": {},
   "outputs": [
    {
     "data": {
      "text/html": [
       "<div>\n",
       "<style scoped>\n",
       "    .dataframe tbody tr th:only-of-type {\n",
       "        vertical-align: middle;\n",
       "    }\n",
       "\n",
       "    .dataframe tbody tr th {\n",
       "        vertical-align: top;\n",
       "    }\n",
       "\n",
       "    .dataframe thead th {\n",
       "        text-align: right;\n",
       "    }\n",
       "</style>\n",
       "<table border=\"1\" class=\"dataframe\">\n",
       "  <thead>\n",
       "    <tr style=\"text-align: right;\">\n",
       "      <th></th>\n",
       "      <th>UserID</th>\n",
       "      <th>MovieID</th>\n",
       "      <th>Rating</th>\n",
       "      <th>Timestamp</th>\n",
       "      <th>Gender</th>\n",
       "      <th>Age</th>\n",
       "      <th>Occupation</th>\n",
       "      <th>Zip Code</th>\n",
       "      <th>Title</th>\n",
       "      <th>Genres</th>\n",
       "    </tr>\n",
       "  </thead>\n",
       "  <tbody>\n",
       "    <tr>\n",
       "      <th>0</th>\n",
       "      <td>1.0</td>\n",
       "      <td>1193</td>\n",
       "      <td>5.0</td>\n",
       "      <td>978300760.0</td>\n",
       "      <td>F</td>\n",
       "      <td>Under 18</td>\n",
       "      <td>K-12 student</td>\n",
       "      <td>48067</td>\n",
       "      <td>One Flew Over the Cuckoo's Nest (1975)</td>\n",
       "      <td>Drama</td>\n",
       "    </tr>\n",
       "    <tr>\n",
       "      <th>1</th>\n",
       "      <td>2.0</td>\n",
       "      <td>1193</td>\n",
       "      <td>5.0</td>\n",
       "      <td>978298413.0</td>\n",
       "      <td>M</td>\n",
       "      <td>56+</td>\n",
       "      <td>self-employed</td>\n",
       "      <td>70072</td>\n",
       "      <td>One Flew Over the Cuckoo's Nest (1975)</td>\n",
       "      <td>Drama</td>\n",
       "    </tr>\n",
       "    <tr>\n",
       "      <th>2</th>\n",
       "      <td>12.0</td>\n",
       "      <td>1193</td>\n",
       "      <td>4.0</td>\n",
       "      <td>978220179.0</td>\n",
       "      <td>M</td>\n",
       "      <td>25-34</td>\n",
       "      <td>programmer</td>\n",
       "      <td>32793</td>\n",
       "      <td>One Flew Over the Cuckoo's Nest (1975)</td>\n",
       "      <td>Drama</td>\n",
       "    </tr>\n",
       "    <tr>\n",
       "      <th>3</th>\n",
       "      <td>15.0</td>\n",
       "      <td>1193</td>\n",
       "      <td>4.0</td>\n",
       "      <td>978199279.0</td>\n",
       "      <td>M</td>\n",
       "      <td>25-34</td>\n",
       "      <td>executive/managerial</td>\n",
       "      <td>22903</td>\n",
       "      <td>One Flew Over the Cuckoo's Nest (1975)</td>\n",
       "      <td>Drama</td>\n",
       "    </tr>\n",
       "    <tr>\n",
       "      <th>4</th>\n",
       "      <td>17.0</td>\n",
       "      <td>1193</td>\n",
       "      <td>5.0</td>\n",
       "      <td>978158471.0</td>\n",
       "      <td>M</td>\n",
       "      <td>50-55</td>\n",
       "      <td>academic/educator</td>\n",
       "      <td>95350</td>\n",
       "      <td>One Flew Over the Cuckoo's Nest (1975)</td>\n",
       "      <td>Drama</td>\n",
       "    </tr>\n",
       "  </tbody>\n",
       "</table>\n",
       "</div>"
      ],
      "text/plain": [
       "   UserID  MovieID  Rating    Timestamp Gender       Age  \\\n",
       "0     1.0     1193     5.0  978300760.0      F  Under 18   \n",
       "1     2.0     1193     5.0  978298413.0      M       56+   \n",
       "2    12.0     1193     4.0  978220179.0      M     25-34   \n",
       "3    15.0     1193     4.0  978199279.0      M     25-34   \n",
       "4    17.0     1193     5.0  978158471.0      M     50-55   \n",
       "\n",
       "             Occupation Zip Code                                   Title  \\\n",
       "0          K-12 student    48067  One Flew Over the Cuckoo's Nest (1975)   \n",
       "1         self-employed    70072  One Flew Over the Cuckoo's Nest (1975)   \n",
       "2            programmer    32793  One Flew Over the Cuckoo's Nest (1975)   \n",
       "3  executive/managerial    22903  One Flew Over the Cuckoo's Nest (1975)   \n",
       "4     academic/educator    95350  One Flew Over the Cuckoo's Nest (1975)   \n",
       "\n",
       "  Genres  \n",
       "0  Drama  \n",
       "1  Drama  \n",
       "2  Drama  \n",
       "3  Drama  \n",
       "4  Drama  "
      ]
     },
     "execution_count": 10,
     "metadata": {},
     "output_type": "execute_result"
    }
   ],
   "source": [
    "ratings_users_movies_merge_df = pd.merge(ratings_users_merge_df,  movies_df, on = \"MovieID\", how = 'outer')\n",
    "ratings_users_movies_merge_df.head()"
   ]
  },
  {
   "cell_type": "code",
   "execution_count": 9,
   "id": "8a9c85a3",
   "metadata": {},
   "outputs": [
    {
     "data": {
      "text/html": [
       "<div>\n",
       "<style scoped>\n",
       "    .dataframe tbody tr th:only-of-type {\n",
       "        vertical-align: middle;\n",
       "    }\n",
       "\n",
       "    .dataframe tbody tr th {\n",
       "        vertical-align: top;\n",
       "    }\n",
       "\n",
       "    .dataframe thead th {\n",
       "        text-align: right;\n",
       "    }\n",
       "</style>\n",
       "<table border=\"1\" class=\"dataframe\">\n",
       "  <thead>\n",
       "    <tr style=\"text-align: right;\">\n",
       "      <th></th>\n",
       "      <th>UserID</th>\n",
       "      <th>MovieID</th>\n",
       "      <th>Rating</th>\n",
       "      <th>Timestamp</th>\n",
       "      <th>Gender</th>\n",
       "      <th>Age</th>\n",
       "      <th>Occupation</th>\n",
       "      <th>Zip Code</th>\n",
       "      <th>Title</th>\n",
       "      <th>Genres</th>\n",
       "    </tr>\n",
       "  </thead>\n",
       "  <tbody>\n",
       "    <tr>\n",
       "      <th>0</th>\n",
       "      <td>1.0</td>\n",
       "      <td>1193</td>\n",
       "      <td>5.0</td>\n",
       "      <td>978300760.0</td>\n",
       "      <td>F</td>\n",
       "      <td>Under 18</td>\n",
       "      <td>K-12 student</td>\n",
       "      <td>48067</td>\n",
       "      <td>One Flew Over the Cuckoo's Nest (1975)</td>\n",
       "      <td>Drama</td>\n",
       "    </tr>\n",
       "    <tr>\n",
       "      <th>1</th>\n",
       "      <td>2.0</td>\n",
       "      <td>1193</td>\n",
       "      <td>5.0</td>\n",
       "      <td>978298413.0</td>\n",
       "      <td>M</td>\n",
       "      <td>56+</td>\n",
       "      <td>self-employed</td>\n",
       "      <td>70072</td>\n",
       "      <td>One Flew Over the Cuckoo's Nest (1975)</td>\n",
       "      <td>Drama</td>\n",
       "    </tr>\n",
       "    <tr>\n",
       "      <th>2</th>\n",
       "      <td>12.0</td>\n",
       "      <td>1193</td>\n",
       "      <td>4.0</td>\n",
       "      <td>978220179.0</td>\n",
       "      <td>M</td>\n",
       "      <td>25-34</td>\n",
       "      <td>programmer</td>\n",
       "      <td>32793</td>\n",
       "      <td>One Flew Over the Cuckoo's Nest (1975)</td>\n",
       "      <td>Drama</td>\n",
       "    </tr>\n",
       "    <tr>\n",
       "      <th>3</th>\n",
       "      <td>15.0</td>\n",
       "      <td>1193</td>\n",
       "      <td>4.0</td>\n",
       "      <td>978199279.0</td>\n",
       "      <td>M</td>\n",
       "      <td>25-34</td>\n",
       "      <td>executive/managerial</td>\n",
       "      <td>22903</td>\n",
       "      <td>One Flew Over the Cuckoo's Nest (1975)</td>\n",
       "      <td>Drama</td>\n",
       "    </tr>\n",
       "    <tr>\n",
       "      <th>4</th>\n",
       "      <td>17.0</td>\n",
       "      <td>1193</td>\n",
       "      <td>5.0</td>\n",
       "      <td>978158471.0</td>\n",
       "      <td>M</td>\n",
       "      <td>50-55</td>\n",
       "      <td>academic/educator</td>\n",
       "      <td>95350</td>\n",
       "      <td>One Flew Over the Cuckoo's Nest (1975)</td>\n",
       "      <td>Drama</td>\n",
       "    </tr>\n",
       "  </tbody>\n",
       "</table>\n",
       "</div>"
      ],
      "text/plain": [
       "   UserID  MovieID  Rating    Timestamp Gender       Age  \\\n",
       "0     1.0     1193     5.0  978300760.0      F  Under 18   \n",
       "1     2.0     1193     5.0  978298413.0      M       56+   \n",
       "2    12.0     1193     4.0  978220179.0      M     25-34   \n",
       "3    15.0     1193     4.0  978199279.0      M     25-34   \n",
       "4    17.0     1193     5.0  978158471.0      M     50-55   \n",
       "\n",
       "             Occupation Zip Code                                   Title  \\\n",
       "0          K-12 student    48067  One Flew Over the Cuckoo's Nest (1975)   \n",
       "1         self-employed    70072  One Flew Over the Cuckoo's Nest (1975)   \n",
       "2            programmer    32793  One Flew Over the Cuckoo's Nest (1975)   \n",
       "3  executive/managerial    22903  One Flew Over the Cuckoo's Nest (1975)   \n",
       "4     academic/educator    95350  One Flew Over the Cuckoo's Nest (1975)   \n",
       "\n",
       "  Genres  \n",
       "0  Drama  \n",
       "1  Drama  \n",
       "2  Drama  \n",
       "3  Drama  \n",
       "4  Drama  "
      ]
     },
     "execution_count": 9,
     "metadata": {},
     "output_type": "execute_result"
    }
   ],
   "source": []
  },
  {
   "cell_type": "markdown",
   "id": "c16eb85e",
   "metadata": {},
   "source": [
    "### Task 9\n",
    "Check the DataFrame obatined from Task 8 to identify any duplicated rows"
   ]
  },
  {
   "cell_type": "code",
   "execution_count": 11,
   "id": "eea66582",
   "metadata": {},
   "outputs": [
    {
     "data": {
      "text/plain": [
       "0"
      ]
     },
     "execution_count": 11,
     "metadata": {},
     "output_type": "execute_result"
    }
   ],
   "source": [
    "ratings_users_movies_merge_df.duplicated().sum()\n"
   ]
  },
  {
   "cell_type": "code",
   "execution_count": 10,
   "id": "88536323",
   "metadata": {},
   "outputs": [
    {
     "data": {
      "text/plain": [
       "0"
      ]
     },
     "execution_count": 10,
     "metadata": {},
     "output_type": "execute_result"
    }
   ],
   "source": []
  },
  {
   "cell_type": "markdown",
   "id": "5f750565",
   "metadata": {},
   "source": [
    "### Task 10\n",
    "Check the DataFrame obtained from Task 8 to identify columns with missing values"
   ]
  },
  {
   "cell_type": "code",
   "execution_count": 12,
   "id": "d0a00ab3",
   "metadata": {},
   "outputs": [
    {
     "data": {
      "text/plain": [
       "UserID         True\n",
       "MovieID       False\n",
       "Rating         True\n",
       "Timestamp      True\n",
       "Gender         True\n",
       "Age            True\n",
       "Occupation     True\n",
       "Zip Code       True\n",
       "Title         False\n",
       "Genres        False\n",
       "dtype: bool"
      ]
     },
     "execution_count": 12,
     "metadata": {},
     "output_type": "execute_result"
    }
   ],
   "source": [
    "ratings_users_movies_merge_df.isnull().any()"
   ]
  },
  {
   "cell_type": "code",
   "execution_count": 11,
   "id": "211808b2",
   "metadata": {},
   "outputs": [
    {
     "data": {
      "text/plain": [
       "UserID         True\n",
       "MovieID       False\n",
       "Rating         True\n",
       "Timestamp      True\n",
       "Gender         True\n",
       "Age            True\n",
       "Occupation     True\n",
       "Zip Code       True\n",
       "Title         False\n",
       "Genres        False\n",
       "dtype: bool"
      ]
     },
     "execution_count": 11,
     "metadata": {},
     "output_type": "execute_result"
    }
   ],
   "source": []
  },
  {
   "cell_type": "markdown",
   "id": "2a632c39",
   "metadata": {},
   "source": [
    "### Task 11\n",
    "Drop rows with missing values and verify that no column has missing values."
   ]
  },
  {
   "cell_type": "code",
   "execution_count": 13,
   "id": "4659fbc4",
   "metadata": {},
   "outputs": [
    {
     "data": {
      "text/plain": [
       "UserID        False\n",
       "MovieID       False\n",
       "Rating        False\n",
       "Timestamp     False\n",
       "Gender        False\n",
       "Age           False\n",
       "Occupation    False\n",
       "Zip Code      False\n",
       "Title         False\n",
       "Genres        False\n",
       "dtype: bool"
      ]
     },
     "execution_count": 13,
     "metadata": {},
     "output_type": "execute_result"
    }
   ],
   "source": [
    "dropping_missing_rows=ratings_users_movies_merge_df.dropna()\n",
    "dropping_missing_rows.isnull().any()"
   ]
  },
  {
   "cell_type": "code",
   "execution_count": 12,
   "id": "2f568a30",
   "metadata": {},
   "outputs": [
    {
     "data": {
      "text/plain": [
       "UserID        False\n",
       "MovieID       False\n",
       "Rating        False\n",
       "Timestamp     False\n",
       "Gender        False\n",
       "Age           False\n",
       "Occupation    False\n",
       "Zip Code      False\n",
       "Title         False\n",
       "Genres        False\n",
       "dtype: bool"
      ]
     },
     "execution_count": 12,
     "metadata": {},
     "output_type": "execute_result"
    }
   ],
   "source": []
  },
  {
   "cell_type": "markdown",
   "id": "694bcaf2",
   "metadata": {},
   "source": [
    "### Task 12\n",
    "Find the gender distribution of the dataset obtained from Task 11"
   ]
  },
  {
   "cell_type": "code",
   "execution_count": 14,
   "id": "e0b24784",
   "metadata": {},
   "outputs": [
    {
     "data": {
      "text/plain": [
       "M    753769\n",
       "F    246440\n",
       "Name: Gender, dtype: int64"
      ]
     },
     "execution_count": 14,
     "metadata": {},
     "output_type": "execute_result"
    }
   ],
   "source": [
    "ratings_users_movies_merge_df['Gender'].value_counts()"
   ]
  },
  {
   "cell_type": "code",
   "execution_count": 13,
   "id": "92b9fa9d",
   "metadata": {},
   "outputs": [
    {
     "data": {
      "text/plain": [
       "M    753769\n",
       "F    246440\n",
       "Name: Gender, dtype: int64"
      ]
     },
     "execution_count": 13,
     "metadata": {},
     "output_type": "execute_result"
    }
   ],
   "source": []
  },
  {
   "cell_type": "markdown",
   "id": "de4ee3e0",
   "metadata": {},
   "source": [
    "### Task 13\n",
    "Plot the bar graph for the age distribution of the dataset obtained from Task 11"
   ]
  },
  {
   "cell_type": "code",
   "execution_count": 60,
   "id": "0ba27151",
   "metadata": {},
   "outputs": [
    {
     "data": {
      "text/plain": [
       "<AxesSubplot:xlabel='Age'>"
      ]
     },
     "execution_count": 60,
     "metadata": {},
     "output_type": "execute_result"
    },
    {
     "data": {
      "image/png": "[encoded data removed]",
      "text/plain": [
       "<Figure size 432x288 with 1 Axes>"
      ]
     },
     "metadata": {
      "needs_background": "light"
     },
     "output_type": "display_data"
    }
   ],
   "source": [
    "age_distribution_bar_df = dropping_missing_rows\n",
    "age_distribution_bar_df.groupby('Age')['MovieID'].count().sort_values(ascending = False).plot.bar()"
   ]
  },
  {
   "cell_type": "code",
   "execution_count": 14,
   "id": "d506e85a",
   "metadata": {},
   "outputs": [
    {
     "data": {
      "text/plain": [
       "<AxesSubplot:>"
      ]
     },
     "execution_count": 14,
     "metadata": {},
     "output_type": "execute_result"
    },
    {
     "data": {
      "image/png": "[encoded data removed]",
      "text/plain": [
       "<Figure size 432x288 with 1 Axes>"
      ]
     },
     "metadata": {
      "needs_background": "light"
     },
     "output_type": "display_data"
    }
   ],
   "source": []
  },
  {
   "cell_type": "markdown",
   "id": "a753c2be",
   "metadata": {},
   "source": [
    "### Task 14\n",
    "Find the total number of ratings grouped by `Title` for each movie. Display the first five results"
   ]
  },
  {
   "cell_type": "code",
   "execution_count": 22,
   "id": "71f33691",
   "metadata": {
    "scrolled": true
   },
   "outputs": [
    {
     "data": {
      "text/plain": [
       "Title\n",
       "$1,000,000 Duck (1971)            37\n",
       "'Night Mother (1986)              70\n",
       "'Til There Was You (1997)         52\n",
       "'burbs, The (1989)               303\n",
       "...And Justice for All (1979)    199\n",
       "Name: Rating, dtype: int64"
      ]
     },
     "execution_count": 22,
     "metadata": {},
     "output_type": "execute_result"
    }
   ],
   "source": [
    "df14 = dropping_missing_rows.groupby('Title')['Rating'].count()\n",
    "df14.head()"
   ]
  },
  {
   "cell_type": "code",
   "execution_count": 15,
   "id": "b6261328",
   "metadata": {},
   "outputs": [
    {
     "data": {
      "text/plain": [
       "Title\n",
       "$1,000,000 Duck (1971)            37\n",
       "'Night Mother (1986)              70\n",
       "'Til There Was You (1997)         52\n",
       "'burbs, The (1989)               303\n",
       "...And Justice for All (1979)    199\n",
       "dtype: int64"
      ]
     },
     "execution_count": 15,
     "metadata": {},
     "output_type": "execute_result"
    }
   ],
   "source": []
  },
  {
   "cell_type": "markdown",
   "id": "490b379b",
   "metadata": {},
   "source": [
    "### Task 15\n",
    "Use the `filter` function to filter out those titles which have less than 100 ratings. Display the number of records remained in the dataset"
   ]
  },
  {
   "cell_type": "code",
   "execution_count": 24,
   "id": "6e4e3905",
   "metadata": {},
   "outputs": [
    {
     "data": {
      "text/plain": [
       "942225"
      ]
     },
     "execution_count": 24,
     "metadata": {},
     "output_type": "execute_result"
    }
   ],
   "source": [
    "def filter_func(x):\n",
    "    return x['Rating'].count() >= 100\n",
    "filter_titles_df=dropping_missing_rows.groupby('Title').filter(filter_func)\n",
    "filter_titles_df.count().iloc[0]"
   ]
  },
  {
   "cell_type": "code",
   "execution_count": 16,
   "id": "5a5bc29a",
   "metadata": {},
   "outputs": [
    {
     "data": {
      "text/plain": [
       "942225"
      ]
     },
     "execution_count": 16,
     "metadata": {},
     "output_type": "execute_result"
    }
   ],
   "source": []
  },
  {
   "cell_type": "markdown",
   "id": "8887d029",
   "metadata": {},
   "source": [
    "### Task 16\n",
    "Using the dataframe obtained from Task 15, what are the top five rated movies by male"
   ]
  },
  {
   "cell_type": "code",
   "execution_count": 26,
   "id": "71334cf6",
   "metadata": {},
   "outputs": [
    {
     "data": {
      "text/plain": [
       "Title\n",
       "Godfather, The (1972)                                                  4.583333\n",
       "Seven Samurai (The Magnificent Seven) (Shichinin no samurai) (1954)    4.576628\n",
       "Shawshank Redemption, The (1994)                                       4.560625\n",
       "Raiders of the Lost Ark (1981)                                         4.520597\n",
       "Usual Suspects, The (1995)                                             4.518248\n",
       "Name: Rating, dtype: float64"
      ]
     },
     "execution_count": 26,
     "metadata": {},
     "output_type": "execute_result"
    }
   ],
   "source": [
    "Filter_male_df = filter_titles_df.query('Gender == \"M\"')\n",
    "Filter_male_df.groupby('Title')['Rating'].mean().sort_values(ascending=False).head()"
   ]
  },
  {
   "cell_type": "code",
   "execution_count": 17,
   "id": "16b7a5e9",
   "metadata": {},
   "outputs": [
    {
     "data": {
      "text/plain": [
       "Title\n",
       "Godfather, The (1972)                                                  4.583333\n",
       "Seven Samurai (The Magnificent Seven) (Shichinin no samurai) (1954)    4.576628\n",
       "Shawshank Redemption, The (1994)                                       4.560625\n",
       "Raiders of the Lost Ark (1981)                                         4.520597\n",
       "Usual Suspects, The (1995)                                             4.518248\n",
       "Name: Rating, dtype: float64"
      ]
     },
     "execution_count": 17,
     "metadata": {},
     "output_type": "execute_result"
    }
   ],
   "source": []
  },
  {
   "cell_type": "markdown",
   "id": "741f0ac1",
   "metadata": {},
   "source": [
    "### Task 17\n",
    "Using the dataframe obtained from Task 15, what are the bottom five rated movies by female"
   ]
  },
  {
   "cell_type": "code",
   "execution_count": 27,
   "id": "ef230fe1",
   "metadata": {},
   "outputs": [
    {
     "data": {
      "text/plain": [
       "Title\n",
       "Aces: Iron Eagle III (1992)                       1.090909\n",
       "Friday the 13th Part V: A New Beginning (1985)    1.272727\n",
       "Kazaam (1996)                                     1.444444\n",
       "Friday the 13th Part VI: Jason Lives (1986)       1.500000\n",
       "Battlefield Earth (2000)                          1.574468\n",
       "Name: Rating, dtype: float64"
      ]
     },
     "execution_count": 27,
     "metadata": {},
     "output_type": "execute_result"
    }
   ],
   "source": [
    "Filter_female_df = filter_titles_df.query('Gender == \"F\"')\n",
    "Filter_female_df.groupby('Title')['Rating'].mean().sort_values().head()"
   ]
  },
  {
   "cell_type": "code",
   "execution_count": 18,
   "id": "2bddcfd9",
   "metadata": {},
   "outputs": [
    {
     "data": {
      "text/plain": [
       "Title\n",
       "Aces: Iron Eagle III (1992)                       1.090909\n",
       "Friday the 13th Part V: A New Beginning (1985)    1.272727\n",
       "Kazaam (1996)                                     1.444444\n",
       "Friday the 13th Part VI: Jason Lives (1986)       1.500000\n",
       "Battlefield Earth (2000)                          1.574468\n",
       "Name: Rating, dtype: float64"
      ]
     },
     "execution_count": 18,
     "metadata": {},
     "output_type": "execute_result"
    }
   ],
   "source": []
  },
  {
   "cell_type": "markdown",
   "id": "6a5d1d05",
   "metadata": {},
   "source": [
    "### Task 18\n",
    "Using the dataframe obtained from Task 15, what are the top 5 rated movies overall"
   ]
  },
  {
   "cell_type": "code",
   "execution_count": 28,
   "id": "cb7849f1",
   "metadata": {},
   "outputs": [
    {
     "data": {
      "text/plain": [
       "Title\n",
       "Seven Samurai (The Magnificent Seven) (Shichinin no samurai) (1954)    4.560510\n",
       "Shawshank Redemption, The (1994)                                       4.554558\n",
       "Godfather, The (1972)                                                  4.524966\n",
       "Close Shave, A (1995)                                                  4.520548\n",
       "Usual Suspects, The (1995)                                             4.517106\n",
       "Name: Rating, dtype: float64"
      ]
     },
     "execution_count": 28,
     "metadata": {},
     "output_type": "execute_result"
    }
   ],
   "source": [
    "filter_titles_df.groupby('Title')['Rating'].mean().sort_values(ascending=False).head()"
   ]
  },
  {
   "cell_type": "code",
   "execution_count": 19,
   "id": "18c4f411",
   "metadata": {},
   "outputs": [
    {
     "data": {
      "text/plain": [
       "Title\n",
       "Seven Samurai (The Magnificent Seven) (Shichinin no samurai) (1954)    4.560510\n",
       "Shawshank Redemption, The (1994)                                       4.554558\n",
       "Godfather, The (1972)                                                  4.524966\n",
       "Close Shave, A (1995)                                                  4.520548\n",
       "Usual Suspects, The (1995)                                             4.517106\n",
       "Name: Rating, dtype: float64"
      ]
     },
     "execution_count": 19,
     "metadata": {},
     "output_type": "execute_result"
    }
   ],
   "source": []
  },
  {
   "cell_type": "markdown",
   "id": "656afdd7",
   "metadata": {},
   "source": [
    "### Task 19\n",
    "Find the average movie ratings grouped by ages for each movie"
   ]
  },
  {
   "cell_type": "code",
   "execution_count": 29,
   "id": "43dca1a6",
   "metadata": {},
   "outputs": [
    {
     "data": {
      "text/html": [
       "<div>\n",
       "<style scoped>\n",
       "    .dataframe tbody tr th:only-of-type {\n",
       "        vertical-align: middle;\n",
       "    }\n",
       "\n",
       "    .dataframe tbody tr th {\n",
       "        vertical-align: top;\n",
       "    }\n",
       "\n",
       "    .dataframe thead th {\n",
       "        text-align: right;\n",
       "    }\n",
       "</style>\n",
       "<table border=\"1\" class=\"dataframe\">\n",
       "  <thead>\n",
       "    <tr style=\"text-align: right;\">\n",
       "      <th>Age</th>\n",
       "      <th>18-24</th>\n",
       "      <th>25-34</th>\n",
       "      <th>35-44</th>\n",
       "      <th>45-49</th>\n",
       "      <th>50-55</th>\n",
       "      <th>56+</th>\n",
       "      <th>Under 18</th>\n",
       "    </tr>\n",
       "    <tr>\n",
       "      <th>Title</th>\n",
       "      <th></th>\n",
       "      <th></th>\n",
       "      <th></th>\n",
       "      <th></th>\n",
       "      <th></th>\n",
       "      <th></th>\n",
       "      <th></th>\n",
       "    </tr>\n",
       "  </thead>\n",
       "  <tbody>\n",
       "    <tr>\n",
       "      <th>'burbs, The (1989)</th>\n",
       "      <td>3.244444</td>\n",
       "      <td>2.652174</td>\n",
       "      <td>2.818182</td>\n",
       "      <td>2.545455</td>\n",
       "      <td>3.208333</td>\n",
       "      <td>2.666667</td>\n",
       "      <td>4.500000</td>\n",
       "    </tr>\n",
       "    <tr>\n",
       "      <th>...And Justice for All (1979)</th>\n",
       "      <td>3.428571</td>\n",
       "      <td>3.724138</td>\n",
       "      <td>3.657143</td>\n",
       "      <td>4.100000</td>\n",
       "      <td>3.551724</td>\n",
       "      <td>3.928571</td>\n",
       "      <td>3.000000</td>\n",
       "    </tr>\n",
       "    <tr>\n",
       "      <th>10 Things I Hate About You (1999)</th>\n",
       "      <td>3.415020</td>\n",
       "      <td>3.432950</td>\n",
       "      <td>3.102941</td>\n",
       "      <td>3.258065</td>\n",
       "      <td>3.629630</td>\n",
       "      <td>4.000000</td>\n",
       "      <td>3.745455</td>\n",
       "    </tr>\n",
       "    <tr>\n",
       "      <th>101 Dalmatians (1961)</th>\n",
       "      <td>3.295082</td>\n",
       "      <td>3.613757</td>\n",
       "      <td>3.826087</td>\n",
       "      <td>3.976744</td>\n",
       "      <td>3.650000</td>\n",
       "      <td>3.190476</td>\n",
       "      <td>3.514286</td>\n",
       "    </tr>\n",
       "    <tr>\n",
       "      <th>101 Dalmatians (1996)</th>\n",
       "      <td>2.467742</td>\n",
       "      <td>2.928571</td>\n",
       "      <td>3.279570</td>\n",
       "      <td>3.482759</td>\n",
       "      <td>3.400000</td>\n",
       "      <td>3.555556</td>\n",
       "      <td>3.088235</td>\n",
       "    </tr>\n",
       "    <tr>\n",
       "      <th>...</th>\n",
       "      <td>...</td>\n",
       "      <td>...</td>\n",
       "      <td>...</td>\n",
       "      <td>...</td>\n",
       "      <td>...</td>\n",
       "      <td>...</td>\n",
       "      <td>...</td>\n",
       "    </tr>\n",
       "    <tr>\n",
       "      <th>Young Guns II (1990)</th>\n",
       "      <td>3.121212</td>\n",
       "      <td>2.911111</td>\n",
       "      <td>2.765957</td>\n",
       "      <td>2.444444</td>\n",
       "      <td>2.400000</td>\n",
       "      <td>2.714286</td>\n",
       "      <td>3.666667</td>\n",
       "    </tr>\n",
       "    <tr>\n",
       "      <th>Young Sherlock Holmes (1985)</th>\n",
       "      <td>3.629630</td>\n",
       "      <td>3.448485</td>\n",
       "      <td>3.257143</td>\n",
       "      <td>3.125000</td>\n",
       "      <td>3.297297</td>\n",
       "      <td>3.388889</td>\n",
       "      <td>3.000000</td>\n",
       "    </tr>\n",
       "    <tr>\n",
       "      <th>Your Friends and Neighbors (1998)</th>\n",
       "      <td>3.516129</td>\n",
       "      <td>3.296296</td>\n",
       "      <td>3.400000</td>\n",
       "      <td>2.750000</td>\n",
       "      <td>3.000000</td>\n",
       "      <td>4.000000</td>\n",
       "      <td>4.000000</td>\n",
       "    </tr>\n",
       "    <tr>\n",
       "      <th>Zero Effect (1998)</th>\n",
       "      <td>3.883333</td>\n",
       "      <td>3.715278</td>\n",
       "      <td>3.608696</td>\n",
       "      <td>3.764706</td>\n",
       "      <td>3.833333</td>\n",
       "      <td>3.625000</td>\n",
       "      <td>4.125000</td>\n",
       "    </tr>\n",
       "    <tr>\n",
       "      <th>eXistenZ (1999)</th>\n",
       "      <td>3.289157</td>\n",
       "      <td>3.234973</td>\n",
       "      <td>3.364865</td>\n",
       "      <td>3.222222</td>\n",
       "      <td>3.291667</td>\n",
       "      <td>2.200000</td>\n",
       "      <td>3.142857</td>\n",
       "    </tr>\n",
       "  </tbody>\n",
       "</table>\n",
       "<p>2019 rows × 7 columns</p>\n",
       "</div>"
      ],
      "text/plain": [
       "Age                                   18-24     25-34     35-44     45-49  \\\n",
       "Title                                                                       \n",
       "'burbs, The (1989)                 3.244444  2.652174  2.818182  2.545455   \n",
       "...And Justice for All (1979)      3.428571  3.724138  3.657143  4.100000   \n",
       "10 Things I Hate About You (1999)  3.415020  3.432950  3.102941  3.258065   \n",
       "101 Dalmatians (1961)              3.295082  3.613757  3.826087  3.976744   \n",
       "101 Dalmatians (1996)              2.467742  2.928571  3.279570  3.482759   \n",
       "...                                     ...       ...       ...       ...   \n",
       "Young Guns II (1990)               3.121212  2.911111  2.765957  2.444444   \n",
       "Young Sherlock Holmes (1985)       3.629630  3.448485  3.257143  3.125000   \n",
       "Your Friends and Neighbors (1998)  3.516129  3.296296  3.400000  2.750000   \n",
       "Zero Effect (1998)                 3.883333  3.715278  3.608696  3.764706   \n",
       "eXistenZ (1999)                    3.289157  3.234973  3.364865  3.222222   \n",
       "\n",
       "Age                                   50-55       56+  Under 18  \n",
       "Title                                                            \n",
       "'burbs, The (1989)                 3.208333  2.666667  4.500000  \n",
       "...And Justice for All (1979)      3.551724  3.928571  3.000000  \n",
       "10 Things I Hate About You (1999)  3.629630  4.000000  3.745455  \n",
       "101 Dalmatians (1961)              3.650000  3.190476  3.514286  \n",
       "101 Dalmatians (1996)              3.400000  3.555556  3.088235  \n",
       "...                                     ...       ...       ...  \n",
       "Young Guns II (1990)               2.400000  2.714286  3.666667  \n",
       "Young Sherlock Holmes (1985)       3.297297  3.388889  3.000000  \n",
       "Your Friends and Neighbors (1998)  3.000000  4.000000  4.000000  \n",
       "Zero Effect (1998)                 3.833333  3.625000  4.125000  \n",
       "eXistenZ (1999)                    3.291667  2.200000  3.142857  \n",
       "\n",
       "[2019 rows x 7 columns]"
      ]
     },
     "execution_count": 29,
     "metadata": {},
     "output_type": "execute_result"
    }
   ],
   "source": [
    "construct_pivot_table_age_df = pd.pivot_table(filter_titles_df, 'Rating', index = 'Title', columns = 'Age')\n",
    "construct_pivot_table_age_df"
   ]
  },
  {
   "cell_type": "code",
   "execution_count": 20,
   "id": "8bdb82f2",
   "metadata": {},
   "outputs": [
    {
     "data": {
      "text/html": [
       "<div>\n",
       "<style scoped>\n",
       "    .dataframe tbody tr th:only-of-type {\n",
       "        vertical-align: middle;\n",
       "    }\n",
       "\n",
       "    .dataframe tbody tr th {\n",
       "        vertical-align: top;\n",
       "    }\n",
       "\n",
       "    .dataframe thead th {\n",
       "        text-align: right;\n",
       "    }\n",
       "</style>\n",
       "<table border=\"1\" class=\"dataframe\">\n",
       "  <thead>\n",
       "    <tr style=\"text-align: right;\">\n",
       "      <th>Age</th>\n",
       "      <th>18-24</th>\n",
       "      <th>25-34</th>\n",
       "      <th>35-44</th>\n",
       "      <th>45-49</th>\n",
       "      <th>50-55</th>\n",
       "      <th>56+</th>\n",
       "      <th>Under 18</th>\n",
       "    </tr>\n",
       "    <tr>\n",
       "      <th>Title</th>\n",
       "      <th></th>\n",
       "      <th></th>\n",
       "      <th></th>\n",
       "      <th></th>\n",
       "      <th></th>\n",
       "      <th></th>\n",
       "      <th></th>\n",
       "    </tr>\n",
       "  </thead>\n",
       "  <tbody>\n",
       "    <tr>\n",
       "      <th>'burbs, The (1989)</th>\n",
       "      <td>3.244444</td>\n",
       "      <td>2.652174</td>\n",
       "      <td>2.818182</td>\n",
       "      <td>2.545455</td>\n",
       "      <td>3.208333</td>\n",
       "      <td>2.666667</td>\n",
       "      <td>4.500000</td>\n",
       "    </tr>\n",
       "    <tr>\n",
       "      <th>...And Justice for All (1979)</th>\n",
       "      <td>3.428571</td>\n",
       "      <td>3.724138</td>\n",
       "      <td>3.657143</td>\n",
       "      <td>4.100000</td>\n",
       "      <td>3.551724</td>\n",
       "      <td>3.928571</td>\n",
       "      <td>3.000000</td>\n",
       "    </tr>\n",
       "    <tr>\n",
       "      <th>10 Things I Hate About You (1999)</th>\n",
       "      <td>3.415020</td>\n",
       "      <td>3.432950</td>\n",
       "      <td>3.102941</td>\n",
       "      <td>3.258065</td>\n",
       "      <td>3.629630</td>\n",
       "      <td>4.000000</td>\n",
       "      <td>3.745455</td>\n",
       "    </tr>\n",
       "    <tr>\n",
       "      <th>101 Dalmatians (1961)</th>\n",
       "      <td>3.295082</td>\n",
       "      <td>3.613757</td>\n",
       "      <td>3.826087</td>\n",
       "      <td>3.976744</td>\n",
       "      <td>3.650000</td>\n",
       "      <td>3.190476</td>\n",
       "      <td>3.514286</td>\n",
       "    </tr>\n",
       "    <tr>\n",
       "      <th>101 Dalmatians (1996)</th>\n",
       "      <td>2.467742</td>\n",
       "      <td>2.928571</td>\n",
       "      <td>3.279570</td>\n",
       "      <td>3.482759</td>\n",
       "      <td>3.400000</td>\n",
       "      <td>3.555556</td>\n",
       "      <td>3.088235</td>\n",
       "    </tr>\n",
       "    <tr>\n",
       "      <th>...</th>\n",
       "      <td>...</td>\n",
       "      <td>...</td>\n",
       "      <td>...</td>\n",
       "      <td>...</td>\n",
       "      <td>...</td>\n",
       "      <td>...</td>\n",
       "      <td>...</td>\n",
       "    </tr>\n",
       "    <tr>\n",
       "      <th>Young Guns II (1990)</th>\n",
       "      <td>3.121212</td>\n",
       "      <td>2.911111</td>\n",
       "      <td>2.765957</td>\n",
       "      <td>2.444444</td>\n",
       "      <td>2.400000</td>\n",
       "      <td>2.714286</td>\n",
       "      <td>3.666667</td>\n",
       "    </tr>\n",
       "    <tr>\n",
       "      <th>Young Sherlock Holmes (1985)</th>\n",
       "      <td>3.629630</td>\n",
       "      <td>3.448485</td>\n",
       "      <td>3.257143</td>\n",
       "      <td>3.125000</td>\n",
       "      <td>3.297297</td>\n",
       "      <td>3.388889</td>\n",
       "      <td>3.000000</td>\n",
       "    </tr>\n",
       "    <tr>\n",
       "      <th>Your Friends and Neighbors (1998)</th>\n",
       "      <td>3.516129</td>\n",
       "      <td>3.296296</td>\n",
       "      <td>3.400000</td>\n",
       "      <td>2.750000</td>\n",
       "      <td>3.000000</td>\n",
       "      <td>4.000000</td>\n",
       "      <td>4.000000</td>\n",
       "    </tr>\n",
       "    <tr>\n",
       "      <th>Zero Effect (1998)</th>\n",
       "      <td>3.883333</td>\n",
       "      <td>3.715278</td>\n",
       "      <td>3.608696</td>\n",
       "      <td>3.764706</td>\n",
       "      <td>3.833333</td>\n",
       "      <td>3.625000</td>\n",
       "      <td>4.125000</td>\n",
       "    </tr>\n",
       "    <tr>\n",
       "      <th>eXistenZ (1999)</th>\n",
       "      <td>3.289157</td>\n",
       "      <td>3.234973</td>\n",
       "      <td>3.364865</td>\n",
       "      <td>3.222222</td>\n",
       "      <td>3.291667</td>\n",
       "      <td>2.200000</td>\n",
       "      <td>3.142857</td>\n",
       "    </tr>\n",
       "  </tbody>\n",
       "</table>\n",
       "<p>2019 rows × 7 columns</p>\n",
       "</div>"
      ],
      "text/plain": [
       "Age                                   18-24     25-34     35-44     45-49  \\\n",
       "Title                                                                       \n",
       "'burbs, The (1989)                 3.244444  2.652174  2.818182  2.545455   \n",
       "...And Justice for All (1979)      3.428571  3.724138  3.657143  4.100000   \n",
       "10 Things I Hate About You (1999)  3.415020  3.432950  3.102941  3.258065   \n",
       "101 Dalmatians (1961)              3.295082  3.613757  3.826087  3.976744   \n",
       "101 Dalmatians (1996)              2.467742  2.928571  3.279570  3.482759   \n",
       "...                                     ...       ...       ...       ...   \n",
       "Young Guns II (1990)               3.121212  2.911111  2.765957  2.444444   \n",
       "Young Sherlock Holmes (1985)       3.629630  3.448485  3.257143  3.125000   \n",
       "Your Friends and Neighbors (1998)  3.516129  3.296296  3.400000  2.750000   \n",
       "Zero Effect (1998)                 3.883333  3.715278  3.608696  3.764706   \n",
       "eXistenZ (1999)                    3.289157  3.234973  3.364865  3.222222   \n",
       "\n",
       "Age                                   50-55       56+  Under 18  \n",
       "Title                                                            \n",
       "'burbs, The (1989)                 3.208333  2.666667  4.500000  \n",
       "...And Justice for All (1979)      3.551724  3.928571  3.000000  \n",
       "10 Things I Hate About You (1999)  3.629630  4.000000  3.745455  \n",
       "101 Dalmatians (1961)              3.650000  3.190476  3.514286  \n",
       "101 Dalmatians (1996)              3.400000  3.555556  3.088235  \n",
       "...                                     ...       ...       ...  \n",
       "Young Guns II (1990)               2.400000  2.714286  3.666667  \n",
       "Young Sherlock Holmes (1985)       3.297297  3.388889  3.000000  \n",
       "Your Friends and Neighbors (1998)  3.000000  4.000000  4.000000  \n",
       "Zero Effect (1998)                 3.833333  3.625000  4.125000  \n",
       "eXistenZ (1999)                    3.291667  2.200000  3.142857  \n",
       "\n",
       "[2019 rows x 7 columns]"
      ]
     },
     "execution_count": 20,
     "metadata": {},
     "output_type": "execute_result"
    }
   ],
   "source": []
  },
  {
   "cell_type": "markdown",
   "id": "2e519aa8",
   "metadata": {},
   "source": [
    "### Task 20\n",
    "Find the top 10 rated movies by age 18-24"
   ]
  },
  {
   "cell_type": "code",
   "execution_count": 30,
   "id": "60b0bbb0",
   "metadata": {},
   "outputs": [],
   "source": [
    "Filter_Age_18_24_df = filter_titles_df.query('Age == \"18-24\"')"
   ]
  },
  {
   "cell_type": "code",
   "execution_count": 31,
   "id": "58fb09d6",
   "metadata": {},
   "outputs": [
    {
     "data": {
      "text/plain": [
       "Title\n",
       "They Shoot Horses, Don't They? (1969)                                  5.000000\n",
       "Palm Beach Story, The (1942)                                           4.833333\n",
       "How Green Was My Valley (1941)                                         4.750000\n",
       "Usual Suspects, The (1995)                                             4.680798\n",
       "Shawshank Redemption, The (1994)                                       4.674569\n",
       "Seven Samurai (The Magnificent Seven) (Shichinin no samurai) (1954)    4.604938\n",
       "Close Shave, A (1995)                                                  4.568000\n",
       "Life Is Beautiful (La Vita è bella) (1997)                             4.549180\n",
       "American Beauty (1999)                                                 4.521678\n",
       "Charade (1963)                                                         4.520000\n",
       "Name: 18-24, dtype: float64"
      ]
     },
     "execution_count": 31,
     "metadata": {},
     "output_type": "execute_result"
    }
   ],
   "source": [
    "Final_Filter_Age_18_24_df = Filter_Age_18_24_df.groupby('Title')['Rating'].mean().sort_values(ascending=False)\n",
    "Final_Filter_Age_18_24_df.name = \"18-24\"\n",
    "Final_Filter_Age_18_24_df.head(10)"
   ]
  },
  {
   "cell_type": "code",
   "execution_count": 21,
   "id": "25c1817c",
   "metadata": {},
   "outputs": [
    {
     "data": {
      "text/plain": [
       "Title\n",
       "They Shoot Horses, Don't They? (1969)                                  5.000000\n",
       "Palm Beach Story, The (1942)                                           4.833333\n",
       "How Green Was My Valley (1941)                                         4.750000\n",
       "Usual Suspects, The (1995)                                             4.680798\n",
       "Shawshank Redemption, The (1994)                                       4.674569\n",
       "Seven Samurai (The Magnificent Seven) (Shichinin no samurai) (1954)    4.604938\n",
       "Close Shave, A (1995)                                                  4.568000\n",
       "Life Is Beautiful (La Vita � bella) (1997)                             4.549180\n",
       "American Beauty (1999)                                                 4.521678\n",
       "Charade (1963)                                                         4.520000\n",
       "Name: 18-24, dtype: float64"
      ]
     },
     "execution_count": 21,
     "metadata": {},
     "output_type": "execute_result"
    }
   ],
   "source": []
  },
  {
   "cell_type": "markdown",
   "id": "0c8a1ce2",
   "metadata": {},
   "source": [
    "### Task 21\n",
    "Find the top 10 rated moives by college students"
   ]
  },
  {
   "cell_type": "code",
   "execution_count": 33,
   "id": "9f82a5e0",
   "metadata": {},
   "outputs": [
    {
     "data": {
      "text/plain": [
       "Title\n",
       "They Shoot Horses, Don't They? (1969)            4.750000\n",
       "Shawshank Redemption, The (1994)                 4.683582\n",
       "Sunset Blvd. (a.k.a. Sunset Boulevard) (1950)    4.675676\n",
       "Usual Suspects, The (1995)                       4.649123\n",
       "Close Shave, A (1995)                            4.595506\n",
       "Palm Beach Story, The (1942)                     4.571429\n",
       "War Room, The (1993)                             4.562500\n",
       "Godfather, The (1972)                            4.556364\n",
       "It Happened One Night (1934)                     4.545455\n",
       "Paths of Glory (1957)                            4.526316\n",
       "Name: college/grad student, dtype: float64"
      ]
     },
     "execution_count": 33,
     "metadata": {},
     "output_type": "execute_result"
    }
   ],
   "source": [
    "Filter_occupation_college_df=filter_titles_df.query('Occupation == \"college/grad student\"')\n",
    "Filter_occupation_college_final_df = Filter_occupation_college_df.groupby('Title')['Rating'].mean().sort_values(ascending=False)\n",
    "Filter_occupation_college_final_df.name = 'college/grad student'\n",
    "Filter_occupation_college_final_df.head(10)"
   ]
  },
  {
   "cell_type": "code",
   "execution_count": 22,
   "id": "6b2e8d25",
   "metadata": {},
   "outputs": [
    {
     "data": {
      "text/plain": [
       "Title\n",
       "They Shoot Horses, Don't They? (1969)            4.750000\n",
       "Shawshank Redemption, The (1994)                 4.683582\n",
       "Sunset Blvd. (a.k.a. Sunset Boulevard) (1950)    4.675676\n",
       "Usual Suspects, The (1995)                       4.649123\n",
       "Close Shave, A (1995)                            4.595506\n",
       "Palm Beach Story, The (1942)                     4.571429\n",
       "War Room, The (1993)                             4.562500\n",
       "Godfather, The (1972)                            4.556364\n",
       "It Happened One Night (1934)                     4.545455\n",
       "Paths of Glory (1957)                            4.526316\n",
       "Name: college/grad student, dtype: float64"
      ]
     },
     "execution_count": 22,
     "metadata": {},
     "output_type": "execute_result"
    }
   ],
   "source": []
  },
  {
   "cell_type": "markdown",
   "id": "8e112337",
   "metadata": {},
   "source": [
    "### Task 22\n",
    "Suppose you wanted to find the movies that are most divisive between male and female viewers. We first construct a pivot table to calcuate the average rating for each movie title between male and female by using the dataframe obtained from Task 15"
   ]
  },
  {
   "cell_type": "code",
   "execution_count": 35,
   "id": "973e92e2",
   "metadata": {},
   "outputs": [
    {
     "data": {
      "text/html": [
       "<div>\n",
       "<style scoped>\n",
       "    .dataframe tbody tr th:only-of-type {\n",
       "        vertical-align: middle;\n",
       "    }\n",
       "\n",
       "    .dataframe tbody tr th {\n",
       "        vertical-align: top;\n",
       "    }\n",
       "\n",
       "    .dataframe thead th {\n",
       "        text-align: right;\n",
       "    }\n",
       "</style>\n",
       "<table border=\"1\" class=\"dataframe\">\n",
       "  <thead>\n",
       "    <tr style=\"text-align: right;\">\n",
       "      <th>Gender</th>\n",
       "      <th>F</th>\n",
       "      <th>M</th>\n",
       "    </tr>\n",
       "    <tr>\n",
       "      <th>Title</th>\n",
       "      <th></th>\n",
       "      <th></th>\n",
       "    </tr>\n",
       "  </thead>\n",
       "  <tbody>\n",
       "    <tr>\n",
       "      <th>'burbs, The (1989)</th>\n",
       "      <td>2.793478</td>\n",
       "      <td>2.962085</td>\n",
       "    </tr>\n",
       "    <tr>\n",
       "      <th>...And Justice for All (1979)</th>\n",
       "      <td>3.828571</td>\n",
       "      <td>3.689024</td>\n",
       "    </tr>\n",
       "    <tr>\n",
       "      <th>10 Things I Hate About You (1999)</th>\n",
       "      <td>3.646552</td>\n",
       "      <td>3.311966</td>\n",
       "    </tr>\n",
       "    <tr>\n",
       "      <th>101 Dalmatians (1961)</th>\n",
       "      <td>3.791444</td>\n",
       "      <td>3.500000</td>\n",
       "    </tr>\n",
       "    <tr>\n",
       "      <th>101 Dalmatians (1996)</th>\n",
       "      <td>3.240000</td>\n",
       "      <td>2.911215</td>\n",
       "    </tr>\n",
       "  </tbody>\n",
       "</table>\n",
       "</div>"
      ],
      "text/plain": [
       "Gender                                    F         M\n",
       "Title                                                \n",
       "'burbs, The (1989)                 2.793478  2.962085\n",
       "...And Justice for All (1979)      3.828571  3.689024\n",
       "10 Things I Hate About You (1999)  3.646552  3.311966\n",
       "101 Dalmatians (1961)              3.791444  3.500000\n",
       "101 Dalmatians (1996)              3.240000  2.911215"
      ]
     },
     "execution_count": 35,
     "metadata": {},
     "output_type": "execute_result"
    }
   ],
   "source": [
    "construct_pivot_table_df = pd.pivot_table(filter_titles_df, 'Rating', index = 'Title', columns = 'Gender')\n",
    "filter_titles_df.pivot_table('Rating', index = 'Title', columns = 'Gender').head()"
   ]
  },
  {
   "cell_type": "code",
   "execution_count": 23,
   "id": "0f1c7846",
   "metadata": {},
   "outputs": [
    {
     "data": {
      "text/html": [
       "<div>\n",
       "<style scoped>\n",
       "    .dataframe tbody tr th:only-of-type {\n",
       "        vertical-align: middle;\n",
       "    }\n",
       "\n",
       "    .dataframe tbody tr th {\n",
       "        vertical-align: top;\n",
       "    }\n",
       "\n",
       "    .dataframe thead th {\n",
       "        text-align: right;\n",
       "    }\n",
       "</style>\n",
       "<table border=\"1\" class=\"dataframe\">\n",
       "  <thead>\n",
       "    <tr style=\"text-align: right;\">\n",
       "      <th>Gender</th>\n",
       "      <th>F</th>\n",
       "      <th>M</th>\n",
       "    </tr>\n",
       "    <tr>\n",
       "      <th>Title</th>\n",
       "      <th></th>\n",
       "      <th></th>\n",
       "    </tr>\n",
       "  </thead>\n",
       "  <tbody>\n",
       "    <tr>\n",
       "      <th>'burbs, The (1989)</th>\n",
       "      <td>2.793478</td>\n",
       "      <td>2.962085</td>\n",
       "    </tr>\n",
       "    <tr>\n",
       "      <th>...And Justice for All (1979)</th>\n",
       "      <td>3.828571</td>\n",
       "      <td>3.689024</td>\n",
       "    </tr>\n",
       "    <tr>\n",
       "      <th>10 Things I Hate About You (1999)</th>\n",
       "      <td>3.646552</td>\n",
       "      <td>3.311966</td>\n",
       "    </tr>\n",
       "    <tr>\n",
       "      <th>101 Dalmatians (1961)</th>\n",
       "      <td>3.791444</td>\n",
       "      <td>3.500000</td>\n",
       "    </tr>\n",
       "    <tr>\n",
       "      <th>101 Dalmatians (1996)</th>\n",
       "      <td>3.240000</td>\n",
       "      <td>2.911215</td>\n",
       "    </tr>\n",
       "  </tbody>\n",
       "</table>\n",
       "</div>"
      ],
      "text/plain": [
       "Gender                                    F         M\n",
       "Title                                                \n",
       "'burbs, The (1989)                 2.793478  2.962085\n",
       "...And Justice for All (1979)      3.828571  3.689024\n",
       "10 Things I Hate About You (1999)  3.646552  3.311966\n",
       "101 Dalmatians (1961)              3.791444  3.500000\n",
       "101 Dalmatians (1996)              3.240000  2.911215"
      ]
     },
     "execution_count": 23,
     "metadata": {},
     "output_type": "execute_result"
    }
   ],
   "source": []
  },
  {
   "cell_type": "markdown",
   "id": "1375b3e4",
   "metadata": {},
   "source": [
    "### Task 23\n",
    "Add a column `diff` to the dataframe obtained from the previous task containing the difference in mean ratings between male and female"
   ]
  },
  {
   "cell_type": "code",
   "execution_count": 36,
   "id": "0fc7e9ab",
   "metadata": {},
   "outputs": [
    {
     "data": {
      "text/html": [
       "<div>\n",
       "<style scoped>\n",
       "    .dataframe tbody tr th:only-of-type {\n",
       "        vertical-align: middle;\n",
       "    }\n",
       "\n",
       "    .dataframe tbody tr th {\n",
       "        vertical-align: top;\n",
       "    }\n",
       "\n",
       "    .dataframe thead th {\n",
       "        text-align: right;\n",
       "    }\n",
       "</style>\n",
       "<table border=\"1\" class=\"dataframe\">\n",
       "  <thead>\n",
       "    <tr style=\"text-align: right;\">\n",
       "      <th>Gender</th>\n",
       "      <th>F</th>\n",
       "      <th>M</th>\n",
       "      <th>diff</th>\n",
       "    </tr>\n",
       "    <tr>\n",
       "      <th>Title</th>\n",
       "      <th></th>\n",
       "      <th></th>\n",
       "      <th></th>\n",
       "    </tr>\n",
       "  </thead>\n",
       "  <tbody>\n",
       "    <tr>\n",
       "      <th>'burbs, The (1989)</th>\n",
       "      <td>2.793478</td>\n",
       "      <td>2.962085</td>\n",
       "      <td>0.168607</td>\n",
       "    </tr>\n",
       "    <tr>\n",
       "      <th>...And Justice for All (1979)</th>\n",
       "      <td>3.828571</td>\n",
       "      <td>3.689024</td>\n",
       "      <td>-0.139547</td>\n",
       "    </tr>\n",
       "    <tr>\n",
       "      <th>10 Things I Hate About You (1999)</th>\n",
       "      <td>3.646552</td>\n",
       "      <td>3.311966</td>\n",
       "      <td>-0.334586</td>\n",
       "    </tr>\n",
       "    <tr>\n",
       "      <th>101 Dalmatians (1961)</th>\n",
       "      <td>3.791444</td>\n",
       "      <td>3.500000</td>\n",
       "      <td>-0.291444</td>\n",
       "    </tr>\n",
       "    <tr>\n",
       "      <th>101 Dalmatians (1996)</th>\n",
       "      <td>3.240000</td>\n",
       "      <td>2.911215</td>\n",
       "      <td>-0.328785</td>\n",
       "    </tr>\n",
       "  </tbody>\n",
       "</table>\n",
       "</div>"
      ],
      "text/plain": [
       "Gender                                    F         M      diff\n",
       "Title                                                          \n",
       "'burbs, The (1989)                 2.793478  2.962085  0.168607\n",
       "...And Justice for All (1979)      3.828571  3.689024 -0.139547\n",
       "10 Things I Hate About You (1999)  3.646552  3.311966 -0.334586\n",
       "101 Dalmatians (1961)              3.791444  3.500000 -0.291444\n",
       "101 Dalmatians (1996)              3.240000  2.911215 -0.328785"
      ]
     },
     "execution_count": 36,
     "metadata": {},
     "output_type": "execute_result"
    }
   ],
   "source": [
    "construct_pivot_table_df['diff'] = construct_pivot_table_df['M'] - construct_pivot_table_df['F']\n",
    "construct_pivot_table_df.head()"
   ]
  },
  {
   "cell_type": "code",
   "execution_count": 24,
   "id": "32af2e50",
   "metadata": {},
   "outputs": [
    {
     "data": {
      "text/html": [
       "<div>\n",
       "<style scoped>\n",
       "    .dataframe tbody tr th:only-of-type {\n",
       "        vertical-align: middle;\n",
       "    }\n",
       "\n",
       "    .dataframe tbody tr th {\n",
       "        vertical-align: top;\n",
       "    }\n",
       "\n",
       "    .dataframe thead th {\n",
       "        text-align: right;\n",
       "    }\n",
       "</style>\n",
       "<table border=\"1\" class=\"dataframe\">\n",
       "  <thead>\n",
       "    <tr style=\"text-align: right;\">\n",
       "      <th>Gender</th>\n",
       "      <th>F</th>\n",
       "      <th>M</th>\n",
       "      <th>diff</th>\n",
       "    </tr>\n",
       "    <tr>\n",
       "      <th>Title</th>\n",
       "      <th></th>\n",
       "      <th></th>\n",
       "      <th></th>\n",
       "    </tr>\n",
       "  </thead>\n",
       "  <tbody>\n",
       "    <tr>\n",
       "      <th>'burbs, The (1989)</th>\n",
       "      <td>2.793478</td>\n",
       "      <td>2.962085</td>\n",
       "      <td>0.168607</td>\n",
       "    </tr>\n",
       "    <tr>\n",
       "      <th>...And Justice for All (1979)</th>\n",
       "      <td>3.828571</td>\n",
       "      <td>3.689024</td>\n",
       "      <td>-0.139547</td>\n",
       "    </tr>\n",
       "    <tr>\n",
       "      <th>10 Things I Hate About You (1999)</th>\n",
       "      <td>3.646552</td>\n",
       "      <td>3.311966</td>\n",
       "      <td>-0.334586</td>\n",
       "    </tr>\n",
       "    <tr>\n",
       "      <th>101 Dalmatians (1961)</th>\n",
       "      <td>3.791444</td>\n",
       "      <td>3.500000</td>\n",
       "      <td>-0.291444</td>\n",
       "    </tr>\n",
       "    <tr>\n",
       "      <th>101 Dalmatians (1996)</th>\n",
       "      <td>3.240000</td>\n",
       "      <td>2.911215</td>\n",
       "      <td>-0.328785</td>\n",
       "    </tr>\n",
       "  </tbody>\n",
       "</table>\n",
       "</div>"
      ],
      "text/plain": [
       "Gender                                    F         M      diff\n",
       "Title                                                          \n",
       "'burbs, The (1989)                 2.793478  2.962085  0.168607\n",
       "...And Justice for All (1979)      3.828571  3.689024 -0.139547\n",
       "10 Things I Hate About You (1999)  3.646552  3.311966 -0.334586\n",
       "101 Dalmatians (1961)              3.791444  3.500000 -0.291444\n",
       "101 Dalmatians (1996)              3.240000  2.911215 -0.328785"
      ]
     },
     "execution_count": 24,
     "metadata": {},
     "output_type": "execute_result"
    }
   ],
   "source": []
  },
  {
   "cell_type": "markdown",
   "id": "dc51a3ee",
   "metadata": {},
   "source": [
    "### Task 24\n",
    "Find the top 10 movie titles which have the highest different ratings between female and male"
   ]
  },
  {
   "cell_type": "code",
   "execution_count": 37,
   "id": "3f242cc3",
   "metadata": {},
   "outputs": [
    {
     "data": {
      "text/html": [
       "<div>\n",
       "<style scoped>\n",
       "    .dataframe tbody tr th:only-of-type {\n",
       "        vertical-align: middle;\n",
       "    }\n",
       "\n",
       "    .dataframe tbody tr th {\n",
       "        vertical-align: top;\n",
       "    }\n",
       "\n",
       "    .dataframe thead th {\n",
       "        text-align: right;\n",
       "    }\n",
       "</style>\n",
       "<table border=\"1\" class=\"dataframe\">\n",
       "  <thead>\n",
       "    <tr style=\"text-align: right;\">\n",
       "      <th>Gender</th>\n",
       "      <th>F</th>\n",
       "      <th>M</th>\n",
       "      <th>diff</th>\n",
       "    </tr>\n",
       "    <tr>\n",
       "      <th>Title</th>\n",
       "      <th></th>\n",
       "      <th></th>\n",
       "      <th></th>\n",
       "    </tr>\n",
       "  </thead>\n",
       "  <tbody>\n",
       "    <tr>\n",
       "      <th>Pet Sematary II (1992)</th>\n",
       "      <td>2.833333</td>\n",
       "      <td>1.858696</td>\n",
       "      <td>-0.974638</td>\n",
       "    </tr>\n",
       "    <tr>\n",
       "      <th>Cutthroat Island (1995)</th>\n",
       "      <td>3.200000</td>\n",
       "      <td>2.341270</td>\n",
       "      <td>-0.858730</td>\n",
       "    </tr>\n",
       "    <tr>\n",
       "      <th>Dirty Dancing (1987)</th>\n",
       "      <td>3.790378</td>\n",
       "      <td>2.959596</td>\n",
       "      <td>-0.830782</td>\n",
       "    </tr>\n",
       "    <tr>\n",
       "      <th>Air Bud (1997)</th>\n",
       "      <td>3.057143</td>\n",
       "      <td>2.233766</td>\n",
       "      <td>-0.823377</td>\n",
       "    </tr>\n",
       "    <tr>\n",
       "      <th>Home Alone 3 (1997)</th>\n",
       "      <td>2.486486</td>\n",
       "      <td>1.683761</td>\n",
       "      <td>-0.802726</td>\n",
       "    </tr>\n",
       "    <tr>\n",
       "      <th>To Wong Foo, Thanks for Everything! Julie Newmar (1995)</th>\n",
       "      <td>3.486842</td>\n",
       "      <td>2.795276</td>\n",
       "      <td>-0.691567</td>\n",
       "    </tr>\n",
       "    <tr>\n",
       "      <th>Jumpin' Jack Flash (1986)</th>\n",
       "      <td>3.254717</td>\n",
       "      <td>2.578358</td>\n",
       "      <td>-0.676359</td>\n",
       "    </tr>\n",
       "    <tr>\n",
       "      <th>Orlando (1993)</th>\n",
       "      <td>3.862745</td>\n",
       "      <td>3.190476</td>\n",
       "      <td>-0.672269</td>\n",
       "    </tr>\n",
       "    <tr>\n",
       "      <th>Spy Hard (1996)</th>\n",
       "      <td>3.125000</td>\n",
       "      <td>2.472527</td>\n",
       "      <td>-0.652473</td>\n",
       "    </tr>\n",
       "    <tr>\n",
       "      <th>Dracula: Dead and Loving It (1995)</th>\n",
       "      <td>2.892857</td>\n",
       "      <td>2.250000</td>\n",
       "      <td>-0.642857</td>\n",
       "    </tr>\n",
       "  </tbody>\n",
       "</table>\n",
       "</div>"
      ],
      "text/plain": [
       "Gender                                                     F         M  \\\n",
       "Title                                                                    \n",
       "Pet Sematary II (1992)                              2.833333  1.858696   \n",
       "Cutthroat Island (1995)                             3.200000  2.341270   \n",
       "Dirty Dancing (1987)                                3.790378  2.959596   \n",
       "Air Bud (1997)                                      3.057143  2.233766   \n",
       "Home Alone 3 (1997)                                 2.486486  1.683761   \n",
       "To Wong Foo, Thanks for Everything! Julie Newma...  3.486842  2.795276   \n",
       "Jumpin' Jack Flash (1986)                           3.254717  2.578358   \n",
       "Orlando (1993)                                      3.862745  3.190476   \n",
       "Spy Hard (1996)                                     3.125000  2.472527   \n",
       "Dracula: Dead and Loving It (1995)                  2.892857  2.250000   \n",
       "\n",
       "Gender                                                  diff  \n",
       "Title                                                         \n",
       "Pet Sematary II (1992)                             -0.974638  \n",
       "Cutthroat Island (1995)                            -0.858730  \n",
       "Dirty Dancing (1987)                               -0.830782  \n",
       "Air Bud (1997)                                     -0.823377  \n",
       "Home Alone 3 (1997)                                -0.802726  \n",
       "To Wong Foo, Thanks for Everything! Julie Newma... -0.691567  \n",
       "Jumpin' Jack Flash (1986)                          -0.676359  \n",
       "Orlando (1993)                                     -0.672269  \n",
       "Spy Hard (1996)                                    -0.652473  \n",
       "Dracula: Dead and Loving It (1995)                 -0.642857  "
      ]
     },
     "execution_count": 37,
     "metadata": {},
     "output_type": "execute_result"
    }
   ],
   "source": [
    "construct_pivot_table_df.sort_values(by = 'diff').head(10)"
   ]
  },
  {
   "cell_type": "code",
   "execution_count": 25,
   "id": "26407dd7",
   "metadata": {},
   "outputs": [
    {
     "data": {
      "text/html": [
       "<div>\n",
       "<style scoped>\n",
       "    .dataframe tbody tr th:only-of-type {\n",
       "        vertical-align: middle;\n",
       "    }\n",
       "\n",
       "    .dataframe tbody tr th {\n",
       "        vertical-align: top;\n",
       "    }\n",
       "\n",
       "    .dataframe thead th {\n",
       "        text-align: right;\n",
       "    }\n",
       "</style>\n",
       "<table border=\"1\" class=\"dataframe\">\n",
       "  <thead>\n",
       "    <tr style=\"text-align: right;\">\n",
       "      <th>Gender</th>\n",
       "      <th>F</th>\n",
       "      <th>M</th>\n",
       "      <th>diff</th>\n",
       "    </tr>\n",
       "    <tr>\n",
       "      <th>Title</th>\n",
       "      <th></th>\n",
       "      <th></th>\n",
       "      <th></th>\n",
       "    </tr>\n",
       "  </thead>\n",
       "  <tbody>\n",
       "    <tr>\n",
       "      <th>Pet Sematary II (1992)</th>\n",
       "      <td>2.833333</td>\n",
       "      <td>1.858696</td>\n",
       "      <td>-0.974638</td>\n",
       "    </tr>\n",
       "    <tr>\n",
       "      <th>Cutthroat Island (1995)</th>\n",
       "      <td>3.200000</td>\n",
       "      <td>2.341270</td>\n",
       "      <td>-0.858730</td>\n",
       "    </tr>\n",
       "    <tr>\n",
       "      <th>Dirty Dancing (1987)</th>\n",
       "      <td>3.790378</td>\n",
       "      <td>2.959596</td>\n",
       "      <td>-0.830782</td>\n",
       "    </tr>\n",
       "    <tr>\n",
       "      <th>Air Bud (1997)</th>\n",
       "      <td>3.057143</td>\n",
       "      <td>2.233766</td>\n",
       "      <td>-0.823377</td>\n",
       "    </tr>\n",
       "    <tr>\n",
       "      <th>Home Alone 3 (1997)</th>\n",
       "      <td>2.486486</td>\n",
       "      <td>1.683761</td>\n",
       "      <td>-0.802726</td>\n",
       "    </tr>\n",
       "    <tr>\n",
       "      <th>To Wong Foo, Thanks for Everything! Julie Newmar (1995)</th>\n",
       "      <td>3.486842</td>\n",
       "      <td>2.795276</td>\n",
       "      <td>-0.691567</td>\n",
       "    </tr>\n",
       "    <tr>\n",
       "      <th>Jumpin' Jack Flash (1986)</th>\n",
       "      <td>3.254717</td>\n",
       "      <td>2.578358</td>\n",
       "      <td>-0.676359</td>\n",
       "    </tr>\n",
       "    <tr>\n",
       "      <th>Orlando (1993)</th>\n",
       "      <td>3.862745</td>\n",
       "      <td>3.190476</td>\n",
       "      <td>-0.672269</td>\n",
       "    </tr>\n",
       "    <tr>\n",
       "      <th>Spy Hard (1996)</th>\n",
       "      <td>3.125000</td>\n",
       "      <td>2.472527</td>\n",
       "      <td>-0.652473</td>\n",
       "    </tr>\n",
       "    <tr>\n",
       "      <th>Dracula: Dead and Loving It (1995)</th>\n",
       "      <td>2.892857</td>\n",
       "      <td>2.250000</td>\n",
       "      <td>-0.642857</td>\n",
       "    </tr>\n",
       "  </tbody>\n",
       "</table>\n",
       "</div>"
      ],
      "text/plain": [
       "Gender                                                     F         M  \\\n",
       "Title                                                                    \n",
       "Pet Sematary II (1992)                              2.833333  1.858696   \n",
       "Cutthroat Island (1995)                             3.200000  2.341270   \n",
       "Dirty Dancing (1987)                                3.790378  2.959596   \n",
       "Air Bud (1997)                                      3.057143  2.233766   \n",
       "Home Alone 3 (1997)                                 2.486486  1.683761   \n",
       "To Wong Foo, Thanks for Everything! Julie Newma...  3.486842  2.795276   \n",
       "Jumpin' Jack Flash (1986)                           3.254717  2.578358   \n",
       "Orlando (1993)                                      3.862745  3.190476   \n",
       "Spy Hard (1996)                                     3.125000  2.472527   \n",
       "Dracula: Dead and Loving It (1995)                  2.892857  2.250000   \n",
       "\n",
       "Gender                                                  diff  \n",
       "Title                                                         \n",
       "Pet Sematary II (1992)                             -0.974638  \n",
       "Cutthroat Island (1995)                            -0.858730  \n",
       "Dirty Dancing (1987)                               -0.830782  \n",
       "Air Bud (1997)                                     -0.823377  \n",
       "Home Alone 3 (1997)                                -0.802726  \n",
       "To Wong Foo, Thanks for Everything! Julie Newma... -0.691567  \n",
       "Jumpin' Jack Flash (1986)                          -0.676359  \n",
       "Orlando (1993)                                     -0.672269  \n",
       "Spy Hard (1996)                                    -0.652473  \n",
       "Dracula: Dead and Loving It (1995)                 -0.642857  "
      ]
     },
     "execution_count": 25,
     "metadata": {},
     "output_type": "execute_result"
    }
   ],
   "source": []
  },
  {
   "cell_type": "markdown",
   "id": "c814aefb",
   "metadata": {},
   "source": [
    "### Task 25\n",
    "Find the top 10 movie titles which have the highest different ratings between male and female"
   ]
  },
  {
   "cell_type": "code",
   "execution_count": 38,
   "id": "23c16b8b",
   "metadata": {},
   "outputs": [
    {
     "data": {
      "text/html": [
       "<div>\n",
       "<style scoped>\n",
       "    .dataframe tbody tr th:only-of-type {\n",
       "        vertical-align: middle;\n",
       "    }\n",
       "\n",
       "    .dataframe tbody tr th {\n",
       "        vertical-align: top;\n",
       "    }\n",
       "\n",
       "    .dataframe thead th {\n",
       "        text-align: right;\n",
       "    }\n",
       "</style>\n",
       "<table border=\"1\" class=\"dataframe\">\n",
       "  <thead>\n",
       "    <tr style=\"text-align: right;\">\n",
       "      <th>Gender</th>\n",
       "      <th>F</th>\n",
       "      <th>M</th>\n",
       "      <th>diff</th>\n",
       "    </tr>\n",
       "    <tr>\n",
       "      <th>Title</th>\n",
       "      <th></th>\n",
       "      <th></th>\n",
       "      <th></th>\n",
       "    </tr>\n",
       "  </thead>\n",
       "  <tbody>\n",
       "    <tr>\n",
       "      <th>Friday the 13th Part V: A New Beginning (1985)</th>\n",
       "      <td>1.272727</td>\n",
       "      <td>2.165049</td>\n",
       "      <td>0.892321</td>\n",
       "    </tr>\n",
       "    <tr>\n",
       "      <th>Friday the 13th Part VI: Jason Lives (1986)</th>\n",
       "      <td>1.500000</td>\n",
       "      <td>2.291667</td>\n",
       "      <td>0.791667</td>\n",
       "    </tr>\n",
       "    <tr>\n",
       "      <th>Lifeforce (1985)</th>\n",
       "      <td>2.250000</td>\n",
       "      <td>2.994152</td>\n",
       "      <td>0.744152</td>\n",
       "    </tr>\n",
       "    <tr>\n",
       "      <th>Marked for Death (1990)</th>\n",
       "      <td>2.100000</td>\n",
       "      <td>2.837607</td>\n",
       "      <td>0.737607</td>\n",
       "    </tr>\n",
       "    <tr>\n",
       "      <th>Quest for Fire (1981)</th>\n",
       "      <td>2.578947</td>\n",
       "      <td>3.309677</td>\n",
       "      <td>0.730730</td>\n",
       "    </tr>\n",
       "    <tr>\n",
       "      <th>Good, The Bad and The Ugly, The (1966)</th>\n",
       "      <td>3.494949</td>\n",
       "      <td>4.221300</td>\n",
       "      <td>0.726351</td>\n",
       "    </tr>\n",
       "    <tr>\n",
       "      <th>No Escape (1994)</th>\n",
       "      <td>2.300000</td>\n",
       "      <td>2.994048</td>\n",
       "      <td>0.694048</td>\n",
       "    </tr>\n",
       "    <tr>\n",
       "      <th>Kentucky Fried Movie, The (1977)</th>\n",
       "      <td>2.878788</td>\n",
       "      <td>3.555147</td>\n",
       "      <td>0.676359</td>\n",
       "    </tr>\n",
       "    <tr>\n",
       "      <th>Your Friends and Neighbors (1998)</th>\n",
       "      <td>2.888889</td>\n",
       "      <td>3.536585</td>\n",
       "      <td>0.647696</td>\n",
       "    </tr>\n",
       "    <tr>\n",
       "      <th>Tora! Tora! Tora! (1970)</th>\n",
       "      <td>3.090909</td>\n",
       "      <td>3.737705</td>\n",
       "      <td>0.646796</td>\n",
       "    </tr>\n",
       "  </tbody>\n",
       "</table>\n",
       "</div>"
      ],
      "text/plain": [
       "Gender                                                 F         M      diff\n",
       "Title                                                                       \n",
       "Friday the 13th Part V: A New Beginning (1985)  1.272727  2.165049  0.892321\n",
       "Friday the 13th Part VI: Jason Lives (1986)     1.500000  2.291667  0.791667\n",
       "Lifeforce (1985)                                2.250000  2.994152  0.744152\n",
       "Marked for Death (1990)                         2.100000  2.837607  0.737607\n",
       "Quest for Fire (1981)                           2.578947  3.309677  0.730730\n",
       "Good, The Bad and The Ugly, The (1966)          3.494949  4.221300  0.726351\n",
       "No Escape (1994)                                2.300000  2.994048  0.694048\n",
       "Kentucky Fried Movie, The (1977)                2.878788  3.555147  0.676359\n",
       "Your Friends and Neighbors (1998)               2.888889  3.536585  0.647696\n",
       "Tora! Tora! Tora! (1970)                        3.090909  3.737705  0.646796"
      ]
     },
     "execution_count": 38,
     "metadata": {},
     "output_type": "execute_result"
    }
   ],
   "source": [
    "construct_pivot_table_df.sort_values(by = 'diff',ascending = False).head(10)"
   ]
  },
  {
   "cell_type": "code",
   "execution_count": 26,
   "id": "e03bb31b",
   "metadata": {},
   "outputs": [
    {
     "data": {
      "text/html": [
       "<div>\n",
       "<style scoped>\n",
       "    .dataframe tbody tr th:only-of-type {\n",
       "        vertical-align: middle;\n",
       "    }\n",
       "\n",
       "    .dataframe tbody tr th {\n",
       "        vertical-align: top;\n",
       "    }\n",
       "\n",
       "    .dataframe thead th {\n",
       "        text-align: right;\n",
       "    }\n",
       "</style>\n",
       "<table border=\"1\" class=\"dataframe\">\n",
       "  <thead>\n",
       "    <tr style=\"text-align: right;\">\n",
       "      <th>Gender</th>\n",
       "      <th>F</th>\n",
       "      <th>M</th>\n",
       "      <th>diff</th>\n",
       "    </tr>\n",
       "    <tr>\n",
       "      <th>Title</th>\n",
       "      <th></th>\n",
       "      <th></th>\n",
       "      <th></th>\n",
       "    </tr>\n",
       "  </thead>\n",
       "  <tbody>\n",
       "    <tr>\n",
       "      <th>Friday the 13th Part V: A New Beginning (1985)</th>\n",
       "      <td>1.272727</td>\n",
       "      <td>2.165049</td>\n",
       "      <td>0.892321</td>\n",
       "    </tr>\n",
       "    <tr>\n",
       "      <th>Friday the 13th Part VI: Jason Lives (1986)</th>\n",
       "      <td>1.500000</td>\n",
       "      <td>2.291667</td>\n",
       "      <td>0.791667</td>\n",
       "    </tr>\n",
       "    <tr>\n",
       "      <th>Lifeforce (1985)</th>\n",
       "      <td>2.250000</td>\n",
       "      <td>2.994152</td>\n",
       "      <td>0.744152</td>\n",
       "    </tr>\n",
       "    <tr>\n",
       "      <th>Marked for Death (1990)</th>\n",
       "      <td>2.100000</td>\n",
       "      <td>2.837607</td>\n",
       "      <td>0.737607</td>\n",
       "    </tr>\n",
       "    <tr>\n",
       "      <th>Quest for Fire (1981)</th>\n",
       "      <td>2.578947</td>\n",
       "      <td>3.309677</td>\n",
       "      <td>0.730730</td>\n",
       "    </tr>\n",
       "    <tr>\n",
       "      <th>Good, The Bad and The Ugly, The (1966)</th>\n",
       "      <td>3.494949</td>\n",
       "      <td>4.221300</td>\n",
       "      <td>0.726351</td>\n",
       "    </tr>\n",
       "    <tr>\n",
       "      <th>No Escape (1994)</th>\n",
       "      <td>2.300000</td>\n",
       "      <td>2.994048</td>\n",
       "      <td>0.694048</td>\n",
       "    </tr>\n",
       "    <tr>\n",
       "      <th>Kentucky Fried Movie, The (1977)</th>\n",
       "      <td>2.878788</td>\n",
       "      <td>3.555147</td>\n",
       "      <td>0.676359</td>\n",
       "    </tr>\n",
       "    <tr>\n",
       "      <th>Your Friends and Neighbors (1998)</th>\n",
       "      <td>2.888889</td>\n",
       "      <td>3.536585</td>\n",
       "      <td>0.647696</td>\n",
       "    </tr>\n",
       "    <tr>\n",
       "      <th>Tora! Tora! Tora! (1970)</th>\n",
       "      <td>3.090909</td>\n",
       "      <td>3.737705</td>\n",
       "      <td>0.646796</td>\n",
       "    </tr>\n",
       "  </tbody>\n",
       "</table>\n",
       "</div>"
      ],
      "text/plain": [
       "Gender                                                 F         M      diff\n",
       "Title                                                                       \n",
       "Friday the 13th Part V: A New Beginning (1985)  1.272727  2.165049  0.892321\n",
       "Friday the 13th Part VI: Jason Lives (1986)     1.500000  2.291667  0.791667\n",
       "Lifeforce (1985)                                2.250000  2.994152  0.744152\n",
       "Marked for Death (1990)                         2.100000  2.837607  0.737607\n",
       "Quest for Fire (1981)                           2.578947  3.309677  0.730730\n",
       "Good, The Bad and The Ugly, The (1966)          3.494949  4.221300  0.726351\n",
       "No Escape (1994)                                2.300000  2.994048  0.694048\n",
       "Kentucky Fried Movie, The (1977)                2.878788  3.555147  0.676359\n",
       "Your Friends and Neighbors (1998)               2.888889  3.536585  0.647696\n",
       "Tora! Tora! Tora! (1970)                        3.090909  3.737705  0.646796"
      ]
     },
     "execution_count": 26,
     "metadata": {},
     "output_type": "execute_result"
    }
   ],
   "source": []
  },
  {
   "cell_type": "markdown",
   "id": "6b486e9f",
   "metadata": {},
   "source": [
    "### Task 26\n",
    "Suppose instead you wanted the movies that received the most disagreement among viewers, indenendent of gender identification. Disagreement can be measured by the variance or standard deviation of the ratings"
   ]
  },
  {
   "cell_type": "code",
   "execution_count": 40,
   "id": "c0b01f75",
   "metadata": {},
   "outputs": [
    {
     "data": {
      "text/plain": [
       "Title\n",
       "Plan 9 from Outer Space (1958)                    1.455998\n",
       "Beloved (1998)                                    1.372813\n",
       "Godzilla 2000 (Gojira ni-sen mireniamu) (1999)    1.364700\n",
       "Texas Chainsaw Massacre, The (1974)               1.332448\n",
       "Dumb & Dumber (1994)                              1.321333\n",
       "Crash (1996)                                      1.319636\n",
       "Blair Witch Project, The (1999)                   1.316368\n",
       "Natural Born Killers (1994)                       1.307198\n",
       "Down to You (2000)                                1.305310\n",
       "Cemetery Man (Dellamorte Dellamore) (1994)        1.300647\n",
       "Name: Rating, dtype: float64"
      ]
     },
     "execution_count": 40,
     "metadata": {},
     "output_type": "execute_result"
    }
   ],
   "source": [
    "calculating_standard_deviation = filter_titles_df.groupby('Title')['Rating'].std()\n",
    "calculating_standard_deviation.sort_values(ascending = False).head(10)"
   ]
  },
  {
   "cell_type": "code",
   "execution_count": 27,
   "id": "a74fb377",
   "metadata": {},
   "outputs": [
    {
     "data": {
      "text/plain": [
       "Title\n",
       "Plan 9 from Outer Space (1958)                    1.455998\n",
       "Beloved (1998)                                    1.372813\n",
       "Godzilla 2000 (Gojira ni-sen mireniamu) (1999)    1.364700\n",
       "Texas Chainsaw Massacre, The (1974)               1.332448\n",
       "Dumb & Dumber (1994)                              1.321333\n",
       "Crash (1996)                                      1.319636\n",
       "Blair Witch Project, The (1999)                   1.316368\n",
       "Natural Born Killers (1994)                       1.307198\n",
       "Down to You (2000)                                1.305310\n",
       "Cemetery Man (Dellamorte Dellamore) (1994)        1.300647\n",
       "Name: Rating, dtype: float64"
      ]
     },
     "execution_count": 27,
     "metadata": {},
     "output_type": "execute_result"
    }
   ],
   "source": []
  },
  {
   "cell_type": "markdown",
   "id": "dfc72178",
   "metadata": {},
   "source": [
    "### Task 27\n",
    "Find the number of ratings from Zip Code 64093 (Warrensburg, MO)"
   ]
  },
  {
   "cell_type": "code",
   "execution_count": 43,
   "id": "b0fc570b",
   "metadata": {},
   "outputs": [
    {
     "data": {
      "text/plain": [
       "595"
      ]
     },
     "execution_count": 43,
     "metadata": {},
     "output_type": "execute_result"
    }
   ],
   "source": [
    "Filter_zip_code_df = filter_titles_df.loc[filter_titles_df['Zip Code'] == '64093']\n",
    "Filter_zip_code_df.count().iloc[0]"
   ]
  },
  {
   "cell_type": "code",
   "execution_count": 28,
   "id": "f25dd0d7",
   "metadata": {},
   "outputs": [
    {
     "data": {
      "text/plain": [
       "595"
      ]
     },
     "execution_count": 28,
     "metadata": {},
     "output_type": "execute_result"
    }
   ],
   "source": []
  },
  {
   "cell_type": "markdown",
   "id": "ffce02eb",
   "metadata": {},
   "source": [
    "### Task 28\n",
    "Find the number of ratings from Zip Code with format 640XX (X represents a digit)"
   ]
  },
  {
   "cell_type": "code",
   "execution_count": 44,
   "id": "93c98732",
   "metadata": {},
   "outputs": [
    {
     "data": {
      "text/plain": [
       "1740"
      ]
     },
     "execution_count": 44,
     "metadata": {},
     "output_type": "execute_result"
    }
   ],
   "source": [
    "filter_titles_df['Zip Code'].str.startswith(\"640\").sum()"
   ]
  },
  {
   "cell_type": "code",
   "execution_count": 29,
   "id": "12f766b6",
   "metadata": {},
   "outputs": [
    {
     "data": {
      "text/plain": [
       "1740"
      ]
     },
     "execution_count": 29,
     "metadata": {},
     "output_type": "execute_result"
    }
   ],
   "source": []
  },
  {
   "cell_type": "markdown",
   "id": "599cd5ea",
   "metadata": {},
   "source": [
    "### Task 29\n",
    "Normalization is a very important data pre-processing step. The formula is \n",
    "\n",
    "$X_{normalized} = \\frac{X - X_{minimum}}{X_{maximum} - X_{minimum}}$\n",
    "\n",
    "\n",
    "Conduct the normalization on the `Rating` column on the DataFrame obtained in Task 1 groupped by `UserID` and add a new column `Rating Norm`"
   ]
  },
  {
   "cell_type": "code",
   "execution_count": 12,
   "id": "d76a3360",
   "metadata": {},
   "outputs": [
    {
     "data": {
      "text/plain": [
       "UserID\n",
       "1    2\n",
       "2    4\n",
       "3    4\n",
       "4    4\n",
       "5    4\n",
       "Name: Range, dtype: int64"
      ]
     },
     "execution_count": 12,
     "metadata": {},
     "output_type": "execute_result"
    }
   ],
   "source": [
    "min_df = ratings_df.groupby('UserID')['Rating'].min()\n",
    "max_df = ratings_df.groupby('UserID')['Rating'].max()\n",
    "range_df = max_df-min_df\n",
    "min_df.name = 'Min'\n",
    "range_df.name = \"Range\"\n",
    "range_df.head()"
   ]
  },
  {
   "cell_type": "code",
   "execution_count": 13,
   "id": "085f9b14",
   "metadata": {},
   "outputs": [
    {
     "data": {
      "text/html": [
       "<div>\n",
       "<style scoped>\n",
       "    .dataframe tbody tr th:only-of-type {\n",
       "        vertical-align: middle;\n",
       "    }\n",
       "\n",
       "    .dataframe tbody tr th {\n",
       "        vertical-align: top;\n",
       "    }\n",
       "\n",
       "    .dataframe thead th {\n",
       "        text-align: right;\n",
       "    }\n",
       "</style>\n",
       "<table border=\"1\" class=\"dataframe\">\n",
       "  <thead>\n",
       "    <tr style=\"text-align: right;\">\n",
       "      <th></th>\n",
       "      <th>Min</th>\n",
       "      <th>Range</th>\n",
       "    </tr>\n",
       "    <tr>\n",
       "      <th>UserID</th>\n",
       "      <th></th>\n",
       "      <th></th>\n",
       "    </tr>\n",
       "  </thead>\n",
       "  <tbody>\n",
       "    <tr>\n",
       "      <th>1</th>\n",
       "      <td>3</td>\n",
       "      <td>2</td>\n",
       "    </tr>\n",
       "    <tr>\n",
       "      <th>2</th>\n",
       "      <td>1</td>\n",
       "      <td>4</td>\n",
       "    </tr>\n",
       "    <tr>\n",
       "      <th>3</th>\n",
       "      <td>1</td>\n",
       "      <td>4</td>\n",
       "    </tr>\n",
       "    <tr>\n",
       "      <th>4</th>\n",
       "      <td>1</td>\n",
       "      <td>4</td>\n",
       "    </tr>\n",
       "    <tr>\n",
       "      <th>5</th>\n",
       "      <td>1</td>\n",
       "      <td>4</td>\n",
       "    </tr>\n",
       "  </tbody>\n",
       "</table>\n",
       "</div>"
      ],
      "text/plain": [
       "        Min  Range\n",
       "UserID            \n",
       "1         3      2\n",
       "2         1      4\n",
       "3         1      4\n",
       "4         1      4\n",
       "5         1      4"
      ]
     },
     "execution_count": 13,
     "metadata": {},
     "output_type": "execute_result"
    }
   ],
   "source": [
    "temp_df = pd.merge(min_df,range_df,left_index=True,right_index=True)\n",
    "temp_df.head()"
   ]
  },
  {
   "cell_type": "code",
   "execution_count": 17,
   "id": "911fa223",
   "metadata": {},
   "outputs": [],
   "source": [
    "df51=ratings_df.copy()"
   ]
  },
  {
   "cell_type": "code",
   "execution_count": 18,
   "id": "b3b097b9",
   "metadata": {},
   "outputs": [],
   "source": [
    "df52 = pd.merge(df51,temp_df,left_on=\"UserID\",right_index=True)"
   ]
  },
  {
   "cell_type": "code",
   "execution_count": 19,
   "id": "48263dbf",
   "metadata": {},
   "outputs": [
    {
     "data": {
      "text/html": [
       "<div>\n",
       "<style scoped>\n",
       "    .dataframe tbody tr th:only-of-type {\n",
       "        vertical-align: middle;\n",
       "    }\n",
       "\n",
       "    .dataframe tbody tr th {\n",
       "        vertical-align: top;\n",
       "    }\n",
       "\n",
       "    .dataframe thead th {\n",
       "        text-align: right;\n",
       "    }\n",
       "</style>\n",
       "<table border=\"1\" class=\"dataframe\">\n",
       "  <thead>\n",
       "    <tr style=\"text-align: right;\">\n",
       "      <th></th>\n",
       "      <th>UserID</th>\n",
       "      <th>MovieID</th>\n",
       "      <th>Rating</th>\n",
       "      <th>Timestamp</th>\n",
       "      <th>Rating Norm</th>\n",
       "    </tr>\n",
       "  </thead>\n",
       "  <tbody>\n",
       "    <tr>\n",
       "      <th>0</th>\n",
       "      <td>1</td>\n",
       "      <td>1193</td>\n",
       "      <td>5</td>\n",
       "      <td>978300760</td>\n",
       "      <td>1.0</td>\n",
       "    </tr>\n",
       "    <tr>\n",
       "      <th>1</th>\n",
       "      <td>1</td>\n",
       "      <td>661</td>\n",
       "      <td>3</td>\n",
       "      <td>978302109</td>\n",
       "      <td>0.0</td>\n",
       "    </tr>\n",
       "    <tr>\n",
       "      <th>2</th>\n",
       "      <td>1</td>\n",
       "      <td>914</td>\n",
       "      <td>3</td>\n",
       "      <td>978301968</td>\n",
       "      <td>0.0</td>\n",
       "    </tr>\n",
       "    <tr>\n",
       "      <th>3</th>\n",
       "      <td>1</td>\n",
       "      <td>3408</td>\n",
       "      <td>4</td>\n",
       "      <td>978300275</td>\n",
       "      <td>0.5</td>\n",
       "    </tr>\n",
       "    <tr>\n",
       "      <th>4</th>\n",
       "      <td>1</td>\n",
       "      <td>2355</td>\n",
       "      <td>5</td>\n",
       "      <td>978824291</td>\n",
       "      <td>1.0</td>\n",
       "    </tr>\n",
       "  </tbody>\n",
       "</table>\n",
       "</div>"
      ],
      "text/plain": [
       "   UserID  MovieID  Rating  Timestamp  Rating Norm\n",
       "0       1     1193       5  978300760          1.0\n",
       "1       1      661       3  978302109          0.0\n",
       "2       1      914       3  978301968          0.0\n",
       "3       1     3408       4  978300275          0.5\n",
       "4       1     2355       5  978824291          1.0"
      ]
     },
     "execution_count": 19,
     "metadata": {},
     "output_type": "execute_result"
    }
   ],
   "source": [
    "df52['Rating Norm'] = (df52['Rating']-df52['Min'])/df52['Range']\n",
    "df52.drop(['Min', 'Range'], axis=1,inplace=True)\n",
    "df52.head()"
   ]
  },
  {
   "cell_type": "code",
   "execution_count": 30,
   "id": "86a4ebd6",
   "metadata": {},
   "outputs": [
    {
     "data": {
      "text/html": [
       "<div>\n",
       "<style scoped>\n",
       "    .dataframe tbody tr th:only-of-type {\n",
       "        vertical-align: middle;\n",
       "    }\n",
       "\n",
       "    .dataframe tbody tr th {\n",
       "        vertical-align: top;\n",
       "    }\n",
       "\n",
       "    .dataframe thead th {\n",
       "        text-align: right;\n",
       "    }\n",
       "</style>\n",
       "<table border=\"1\" class=\"dataframe\">\n",
       "  <thead>\n",
       "    <tr style=\"text-align: right;\">\n",
       "      <th></th>\n",
       "      <th>UserID</th>\n",
       "      <th>MovieID</th>\n",
       "      <th>Rating</th>\n",
       "      <th>Timestamp</th>\n",
       "      <th>Rating Norm</th>\n",
       "    </tr>\n",
       "  </thead>\n",
       "  <tbody>\n",
       "    <tr>\n",
       "      <th>0</th>\n",
       "      <td>1</td>\n",
       "      <td>1193</td>\n",
       "      <td>5</td>\n",
       "      <td>978300760</td>\n",
       "      <td>1.0</td>\n",
       "    </tr>\n",
       "    <tr>\n",
       "      <th>1</th>\n",
       "      <td>1</td>\n",
       "      <td>661</td>\n",
       "      <td>3</td>\n",
       "      <td>978302109</td>\n",
       "      <td>0.0</td>\n",
       "    </tr>\n",
       "    <tr>\n",
       "      <th>2</th>\n",
       "      <td>1</td>\n",
       "      <td>914</td>\n",
       "      <td>3</td>\n",
       "      <td>978301968</td>\n",
       "      <td>0.0</td>\n",
       "    </tr>\n",
       "    <tr>\n",
       "      <th>3</th>\n",
       "      <td>1</td>\n",
       "      <td>3408</td>\n",
       "      <td>4</td>\n",
       "      <td>978300275</td>\n",
       "      <td>0.5</td>\n",
       "    </tr>\n",
       "    <tr>\n",
       "      <th>4</th>\n",
       "      <td>1</td>\n",
       "      <td>2355</td>\n",
       "      <td>5</td>\n",
       "      <td>978824291</td>\n",
       "      <td>1.0</td>\n",
       "    </tr>\n",
       "  </tbody>\n",
       "</table>\n",
       "</div>"
      ],
      "text/plain": [
       "   UserID  MovieID  Rating  Timestamp  Rating Norm\n",
       "0       1     1193       5  978300760          1.0\n",
       "1       1      661       3  978302109          0.0\n",
       "2       1      914       3  978301968          0.0\n",
       "3       1     3408       4  978300275          0.5\n",
       "4       1     2355       5  978824291          1.0"
      ]
     },
     "execution_count": 30,
     "metadata": {},
     "output_type": "execute_result"
    }
   ],
   "source": []
  },
  {
   "cell_type": "markdown",
   "id": "86bc3954",
   "metadata": {},
   "source": [
    "### Task 30\n",
    "Find the first five records of `UserID = 3` from the dataframe obtained from Task 29"
   ]
  },
  {
   "cell_type": "code",
   "execution_count": 20,
   "id": "c2987744",
   "metadata": {},
   "outputs": [
    {
     "data": {
      "text/html": [
       "<div>\n",
       "<style scoped>\n",
       "    .dataframe tbody tr th:only-of-type {\n",
       "        vertical-align: middle;\n",
       "    }\n",
       "\n",
       "    .dataframe tbody tr th {\n",
       "        vertical-align: top;\n",
       "    }\n",
       "\n",
       "    .dataframe thead th {\n",
       "        text-align: right;\n",
       "    }\n",
       "</style>\n",
       "<table border=\"1\" class=\"dataframe\">\n",
       "  <thead>\n",
       "    <tr style=\"text-align: right;\">\n",
       "      <th></th>\n",
       "      <th>UserID</th>\n",
       "      <th>MovieID</th>\n",
       "      <th>Rating</th>\n",
       "      <th>Timestamp</th>\n",
       "      <th>Rating Norm</th>\n",
       "    </tr>\n",
       "  </thead>\n",
       "  <tbody>\n",
       "    <tr>\n",
       "      <th>182</th>\n",
       "      <td>3</td>\n",
       "      <td>3421</td>\n",
       "      <td>4</td>\n",
       "      <td>978298147</td>\n",
       "      <td>0.75</td>\n",
       "    </tr>\n",
       "    <tr>\n",
       "      <th>183</th>\n",
       "      <td>3</td>\n",
       "      <td>1641</td>\n",
       "      <td>2</td>\n",
       "      <td>978298430</td>\n",
       "      <td>0.25</td>\n",
       "    </tr>\n",
       "    <tr>\n",
       "      <th>184</th>\n",
       "      <td>3</td>\n",
       "      <td>648</td>\n",
       "      <td>3</td>\n",
       "      <td>978297867</td>\n",
       "      <td>0.50</td>\n",
       "    </tr>\n",
       "    <tr>\n",
       "      <th>185</th>\n",
       "      <td>3</td>\n",
       "      <td>1394</td>\n",
       "      <td>4</td>\n",
       "      <td>978298147</td>\n",
       "      <td>0.75</td>\n",
       "    </tr>\n",
       "    <tr>\n",
       "      <th>186</th>\n",
       "      <td>3</td>\n",
       "      <td>3534</td>\n",
       "      <td>3</td>\n",
       "      <td>978297068</td>\n",
       "      <td>0.50</td>\n",
       "    </tr>\n",
       "  </tbody>\n",
       "</table>\n",
       "</div>"
      ],
      "text/plain": [
       "     UserID  MovieID  Rating  Timestamp  Rating Norm\n",
       "182       3     3421       4  978298147         0.75\n",
       "183       3     1641       2  978298430         0.25\n",
       "184       3      648       3  978297867         0.50\n",
       "185       3     1394       4  978298147         0.75\n",
       "186       3     3534       3  978297068         0.50"
      ]
     },
     "execution_count": 20,
     "metadata": {},
     "output_type": "execute_result"
    }
   ],
   "source": [
    "filter_records_userID_df30= df52.query('UserID == 3')\n",
    "filter_records_userID_df30.head()"
   ]
  },
  {
   "cell_type": "code",
   "execution_count": 31,
   "id": "d79d9914",
   "metadata": {},
   "outputs": [
    {
     "data": {
      "text/html": [
       "<div>\n",
       "<style scoped>\n",
       "    .dataframe tbody tr th:only-of-type {\n",
       "        vertical-align: middle;\n",
       "    }\n",
       "\n",
       "    .dataframe tbody tr th {\n",
       "        vertical-align: top;\n",
       "    }\n",
       "\n",
       "    .dataframe thead th {\n",
       "        text-align: right;\n",
       "    }\n",
       "</style>\n",
       "<table border=\"1\" class=\"dataframe\">\n",
       "  <thead>\n",
       "    <tr style=\"text-align: right;\">\n",
       "      <th></th>\n",
       "      <th>UserID</th>\n",
       "      <th>MovieID</th>\n",
       "      <th>Rating</th>\n",
       "      <th>Timestamp</th>\n",
       "      <th>Rating Norm</th>\n",
       "    </tr>\n",
       "  </thead>\n",
       "  <tbody>\n",
       "    <tr>\n",
       "      <th>182</th>\n",
       "      <td>3</td>\n",
       "      <td>3421</td>\n",
       "      <td>4</td>\n",
       "      <td>978298147</td>\n",
       "      <td>0.75</td>\n",
       "    </tr>\n",
       "    <tr>\n",
       "      <th>183</th>\n",
       "      <td>3</td>\n",
       "      <td>1641</td>\n",
       "      <td>2</td>\n",
       "      <td>978298430</td>\n",
       "      <td>0.25</td>\n",
       "    </tr>\n",
       "    <tr>\n",
       "      <th>184</th>\n",
       "      <td>3</td>\n",
       "      <td>648</td>\n",
       "      <td>3</td>\n",
       "      <td>978297867</td>\n",
       "      <td>0.50</td>\n",
       "    </tr>\n",
       "    <tr>\n",
       "      <th>185</th>\n",
       "      <td>3</td>\n",
       "      <td>1394</td>\n",
       "      <td>4</td>\n",
       "      <td>978298147</td>\n",
       "      <td>0.75</td>\n",
       "    </tr>\n",
       "    <tr>\n",
       "      <th>186</th>\n",
       "      <td>3</td>\n",
       "      <td>3534</td>\n",
       "      <td>3</td>\n",
       "      <td>978297068</td>\n",
       "      <td>0.50</td>\n",
       "    </tr>\n",
       "  </tbody>\n",
       "</table>\n",
       "</div>"
      ],
      "text/plain": [
       "     UserID  MovieID  Rating  Timestamp  Rating Norm\n",
       "182       3     3421       4  978298147         0.75\n",
       "183       3     1641       2  978298430         0.25\n",
       "184       3      648       3  978297867         0.50\n",
       "185       3     1394       4  978298147         0.75\n",
       "186       3     3534       3  978297068         0.50"
      ]
     },
     "execution_count": 31,
     "metadata": {},
     "output_type": "execute_result"
    }
   ],
   "source": []
  },
  {
   "cell_type": "markdown",
   "id": "46fd69b3",
   "metadata": {},
   "source": [
    "### Task 31\n",
    "Add a new column `Date` to DataFrame from Task 1 by converting the `TimeStamp` column into a datetime object. Note the unit in the `Timestamp` is second"
   ]
  },
  {
   "cell_type": "code",
   "execution_count": 48,
   "id": "0dab725c",
   "metadata": {},
   "outputs": [
    {
     "data": {
      "text/html": [
       "<div>\n",
       "<style scoped>\n",
       "    .dataframe tbody tr th:only-of-type {\n",
       "        vertical-align: middle;\n",
       "    }\n",
       "\n",
       "    .dataframe tbody tr th {\n",
       "        vertical-align: top;\n",
       "    }\n",
       "\n",
       "    .dataframe thead th {\n",
       "        text-align: right;\n",
       "    }\n",
       "</style>\n",
       "<table border=\"1\" class=\"dataframe\">\n",
       "  <thead>\n",
       "    <tr style=\"text-align: right;\">\n",
       "      <th></th>\n",
       "      <th>UserID</th>\n",
       "      <th>MovieID</th>\n",
       "      <th>Rating</th>\n",
       "      <th>Timestamp</th>\n",
       "      <th>Date</th>\n",
       "    </tr>\n",
       "  </thead>\n",
       "  <tbody>\n",
       "    <tr>\n",
       "      <th>0</th>\n",
       "      <td>1</td>\n",
       "      <td>1193</td>\n",
       "      <td>5</td>\n",
       "      <td>978300760</td>\n",
       "      <td>2000-12-31 22:12:40</td>\n",
       "    </tr>\n",
       "    <tr>\n",
       "      <th>1</th>\n",
       "      <td>1</td>\n",
       "      <td>661</td>\n",
       "      <td>3</td>\n",
       "      <td>978302109</td>\n",
       "      <td>2000-12-31 22:35:09</td>\n",
       "    </tr>\n",
       "    <tr>\n",
       "      <th>2</th>\n",
       "      <td>1</td>\n",
       "      <td>914</td>\n",
       "      <td>3</td>\n",
       "      <td>978301968</td>\n",
       "      <td>2000-12-31 22:32:48</td>\n",
       "    </tr>\n",
       "    <tr>\n",
       "      <th>3</th>\n",
       "      <td>1</td>\n",
       "      <td>3408</td>\n",
       "      <td>4</td>\n",
       "      <td>978300275</td>\n",
       "      <td>2000-12-31 22:04:35</td>\n",
       "    </tr>\n",
       "    <tr>\n",
       "      <th>4</th>\n",
       "      <td>1</td>\n",
       "      <td>2355</td>\n",
       "      <td>5</td>\n",
       "      <td>978824291</td>\n",
       "      <td>2001-01-06 23:38:11</td>\n",
       "    </tr>\n",
       "  </tbody>\n",
       "</table>\n",
       "</div>"
      ],
      "text/plain": [
       "   UserID  MovieID  Rating  Timestamp                Date\n",
       "0       1     1193       5  978300760 2000-12-31 22:12:40\n",
       "1       1      661       3  978302109 2000-12-31 22:35:09\n",
       "2       1      914       3  978301968 2000-12-31 22:32:48\n",
       "3       1     3408       4  978300275 2000-12-31 22:04:35\n",
       "4       1     2355       5  978824291 2001-01-06 23:38:11"
      ]
     },
     "execution_count": 48,
     "metadata": {},
     "output_type": "execute_result"
    }
   ],
   "source": [
    "Adding_date_df = ratings_df.copy()\n",
    "Adding_date_df['Date'] = pd.to_datetime(Adding_date_df['Timestamp'], unit='s')\n",
    "Adding_date_df.head()"
   ]
  },
  {
   "cell_type": "code",
   "execution_count": 32,
   "id": "179aafd2",
   "metadata": {},
   "outputs": [
    {
     "data": {
      "text/html": [
       "<div>\n",
       "<style scoped>\n",
       "    .dataframe tbody tr th:only-of-type {\n",
       "        vertical-align: middle;\n",
       "    }\n",
       "\n",
       "    .dataframe tbody tr th {\n",
       "        vertical-align: top;\n",
       "    }\n",
       "\n",
       "    .dataframe thead th {\n",
       "        text-align: right;\n",
       "    }\n",
       "</style>\n",
       "<table border=\"1\" class=\"dataframe\">\n",
       "  <thead>\n",
       "    <tr style=\"text-align: right;\">\n",
       "      <th></th>\n",
       "      <th>UserID</th>\n",
       "      <th>MovieID</th>\n",
       "      <th>Rating</th>\n",
       "      <th>Timestamp</th>\n",
       "      <th>Date</th>\n",
       "    </tr>\n",
       "  </thead>\n",
       "  <tbody>\n",
       "    <tr>\n",
       "      <th>0</th>\n",
       "      <td>1</td>\n",
       "      <td>1193</td>\n",
       "      <td>5</td>\n",
       "      <td>978300760</td>\n",
       "      <td>2000-12-31 22:12:40</td>\n",
       "    </tr>\n",
       "    <tr>\n",
       "      <th>1</th>\n",
       "      <td>1</td>\n",
       "      <td>661</td>\n",
       "      <td>3</td>\n",
       "      <td>978302109</td>\n",
       "      <td>2000-12-31 22:35:09</td>\n",
       "    </tr>\n",
       "    <tr>\n",
       "      <th>2</th>\n",
       "      <td>1</td>\n",
       "      <td>914</td>\n",
       "      <td>3</td>\n",
       "      <td>978301968</td>\n",
       "      <td>2000-12-31 22:32:48</td>\n",
       "    </tr>\n",
       "    <tr>\n",
       "      <th>3</th>\n",
       "      <td>1</td>\n",
       "      <td>3408</td>\n",
       "      <td>4</td>\n",
       "      <td>978300275</td>\n",
       "      <td>2000-12-31 22:04:35</td>\n",
       "    </tr>\n",
       "    <tr>\n",
       "      <th>4</th>\n",
       "      <td>1</td>\n",
       "      <td>2355</td>\n",
       "      <td>5</td>\n",
       "      <td>978824291</td>\n",
       "      <td>2001-01-06 23:38:11</td>\n",
       "    </tr>\n",
       "  </tbody>\n",
       "</table>\n",
       "</div>"
      ],
      "text/plain": [
       "   UserID  MovieID  Rating  Timestamp                Date\n",
       "0       1     1193       5  978300760 2000-12-31 22:12:40\n",
       "1       1      661       3  978302109 2000-12-31 22:35:09\n",
       "2       1      914       3  978301968 2000-12-31 22:32:48\n",
       "3       1     3408       4  978300275 2000-12-31 22:04:35\n",
       "4       1     2355       5  978824291 2001-01-06 23:38:11"
      ]
     },
     "execution_count": 32,
     "metadata": {},
     "output_type": "execute_result"
    }
   ],
   "source": []
  },
  {
   "cell_type": "markdown",
   "id": "c2d8ada9",
   "metadata": {},
   "source": [
    "### Task 32\n",
    "Find the count of `MovieID` groupped by month and ratings"
   ]
  },
  {
   "cell_type": "code",
   "execution_count": 49,
   "id": "0e61177f",
   "metadata": {},
   "outputs": [
    {
     "data": {
      "text/plain": [
       "Date  Rating\n",
       "1     1         1127\n",
       "      2         2608\n",
       "      3         6442\n",
       "      4         8400\n",
       "      5         4495\n",
       "2     1          629\n",
       "      2         1464\n",
       "      3         3297\n",
       "      4         4403\n",
       "      5         2335\n",
       "Name: MovieID, dtype: int64"
      ]
     },
     "execution_count": 49,
     "metadata": {},
     "output_type": "execute_result"
    }
   ],
   "source": [
    "Adding_date_df.groupby([Adding_date_df.Date.dt.month,'Rating'])['MovieID'].count().head(10)"
   ]
  },
  {
   "cell_type": "code",
   "execution_count": 33,
   "id": "7eae5ed6",
   "metadata": {},
   "outputs": [
    {
     "data": {
      "text/plain": [
       "Date  Rating\n",
       "1     1         1127\n",
       "      2         2608\n",
       "      3         6442\n",
       "      4         8400\n",
       "      5         4495\n",
       "2     1          629\n",
       "      2         1464\n",
       "      3         3297\n",
       "      4         4403\n",
       "      5         2335\n",
       "Name: MovieID, dtype: int64"
      ]
     },
     "execution_count": 33,
     "metadata": {},
     "output_type": "execute_result"
    }
   ],
   "source": []
  },
  {
   "cell_type": "markdown",
   "id": "42b4a541",
   "metadata": {},
   "source": [
    "### Task 33\n",
    "Convert the Series from Task 32 into a DataFrame shown below"
   ]
  },
  {
   "cell_type": "code",
   "execution_count": 50,
   "id": "19e9efb9",
   "metadata": {},
   "outputs": [
    {
     "data": {
      "text/html": [
       "<div>\n",
       "<style scoped>\n",
       "    .dataframe tbody tr th:only-of-type {\n",
       "        vertical-align: middle;\n",
       "    }\n",
       "\n",
       "    .dataframe tbody tr th {\n",
       "        vertical-align: top;\n",
       "    }\n",
       "\n",
       "    .dataframe thead th {\n",
       "        text-align: right;\n",
       "    }\n",
       "</style>\n",
       "<table border=\"1\" class=\"dataframe\">\n",
       "  <thead>\n",
       "    <tr style=\"text-align: right;\">\n",
       "      <th>Rating</th>\n",
       "      <th>1</th>\n",
       "      <th>2</th>\n",
       "      <th>3</th>\n",
       "      <th>4</th>\n",
       "      <th>5</th>\n",
       "    </tr>\n",
       "    <tr>\n",
       "      <th>Date</th>\n",
       "      <th></th>\n",
       "      <th></th>\n",
       "      <th></th>\n",
       "      <th></th>\n",
       "      <th></th>\n",
       "    </tr>\n",
       "  </thead>\n",
       "  <tbody>\n",
       "    <tr>\n",
       "      <th>1</th>\n",
       "      <td>1127</td>\n",
       "      <td>2608</td>\n",
       "      <td>6442</td>\n",
       "      <td>8400</td>\n",
       "      <td>4495</td>\n",
       "    </tr>\n",
       "    <tr>\n",
       "      <th>2</th>\n",
       "      <td>629</td>\n",
       "      <td>1464</td>\n",
       "      <td>3297</td>\n",
       "      <td>4403</td>\n",
       "      <td>2335</td>\n",
       "    </tr>\n",
       "    <tr>\n",
       "      <th>3</th>\n",
       "      <td>466</td>\n",
       "      <td>1077</td>\n",
       "      <td>2523</td>\n",
       "      <td>3032</td>\n",
       "      <td>1439</td>\n",
       "    </tr>\n",
       "    <tr>\n",
       "      <th>4</th>\n",
       "      <td>1048</td>\n",
       "      <td>2247</td>\n",
       "      <td>5501</td>\n",
       "      <td>6748</td>\n",
       "      <td>3863</td>\n",
       "    </tr>\n",
       "    <tr>\n",
       "      <th>5</th>\n",
       "      <td>4557</td>\n",
       "      <td>7631</td>\n",
       "      <td>18481</td>\n",
       "      <td>25769</td>\n",
       "      <td>17840</td>\n",
       "    </tr>\n",
       "    <tr>\n",
       "      <th>6</th>\n",
       "      <td>3196</td>\n",
       "      <td>6500</td>\n",
       "      <td>15211</td>\n",
       "      <td>21838</td>\n",
       "      <td>14365</td>\n",
       "    </tr>\n",
       "    <tr>\n",
       "      <th>7</th>\n",
       "      <td>4891</td>\n",
       "      <td>9566</td>\n",
       "      <td>25421</td>\n",
       "      <td>34957</td>\n",
       "      <td>22169</td>\n",
       "    </tr>\n",
       "    <tr>\n",
       "      <th>8</th>\n",
       "      <td>10873</td>\n",
       "      <td>20597</td>\n",
       "      <td>50509</td>\n",
       "      <td>64198</td>\n",
       "      <td>42497</td>\n",
       "    </tr>\n",
       "    <tr>\n",
       "      <th>9</th>\n",
       "      <td>3107</td>\n",
       "      <td>5873</td>\n",
       "      <td>14702</td>\n",
       "      <td>19927</td>\n",
       "      <td>13182</td>\n",
       "    </tr>\n",
       "    <tr>\n",
       "      <th>10</th>\n",
       "      <td>2121</td>\n",
       "      <td>4785</td>\n",
       "      <td>12175</td>\n",
       "      <td>16095</td>\n",
       "      <td>10324</td>\n",
       "    </tr>\n",
       "    <tr>\n",
       "      <th>11</th>\n",
       "      <td>17701</td>\n",
       "      <td>32202</td>\n",
       "      <td>76069</td>\n",
       "      <td>102448</td>\n",
       "      <td>67041</td>\n",
       "    </tr>\n",
       "    <tr>\n",
       "      <th>12</th>\n",
       "      <td>6458</td>\n",
       "      <td>13007</td>\n",
       "      <td>30866</td>\n",
       "      <td>41156</td>\n",
       "      <td>26760</td>\n",
       "    </tr>\n",
       "  </tbody>\n",
       "</table>\n",
       "</div>"
      ],
      "text/plain": [
       "Rating      1      2      3       4      5\n",
       "Date                                      \n",
       "1        1127   2608   6442    8400   4495\n",
       "2         629   1464   3297    4403   2335\n",
       "3         466   1077   2523    3032   1439\n",
       "4        1048   2247   5501    6748   3863\n",
       "5        4557   7631  18481   25769  17840\n",
       "6        3196   6500  15211   21838  14365\n",
       "7        4891   9566  25421   34957  22169\n",
       "8       10873  20597  50509   64198  42497\n",
       "9        3107   5873  14702   19927  13182\n",
       "10       2121   4785  12175   16095  10324\n",
       "11      17701  32202  76069  102448  67041\n",
       "12       6458  13007  30866   41156  26760"
      ]
     },
     "execution_count": 50,
     "metadata": {},
     "output_type": "execute_result"
    }
   ],
   "source": [
    "converting_series_df = Adding_date_df.groupby([Adding_date_df.Date.dt.month,'Rating'])['MovieID'].count().unstack()\n",
    "converting_series_df"
   ]
  },
  {
   "cell_type": "code",
   "execution_count": 34,
   "id": "a0eb9cab",
   "metadata": {},
   "outputs": [
    {
     "data": {
      "text/html": [
       "<div>\n",
       "<style scoped>\n",
       "    .dataframe tbody tr th:only-of-type {\n",
       "        vertical-align: middle;\n",
       "    }\n",
       "\n",
       "    .dataframe tbody tr th {\n",
       "        vertical-align: top;\n",
       "    }\n",
       "\n",
       "    .dataframe thead th {\n",
       "        text-align: right;\n",
       "    }\n",
       "</style>\n",
       "<table border=\"1\" class=\"dataframe\">\n",
       "  <thead>\n",
       "    <tr style=\"text-align: right;\">\n",
       "      <th>Rating</th>\n",
       "      <th>1</th>\n",
       "      <th>2</th>\n",
       "      <th>3</th>\n",
       "      <th>4</th>\n",
       "      <th>5</th>\n",
       "    </tr>\n",
       "    <tr>\n",
       "      <th>Date</th>\n",
       "      <th></th>\n",
       "      <th></th>\n",
       "      <th></th>\n",
       "      <th></th>\n",
       "      <th></th>\n",
       "    </tr>\n",
       "  </thead>\n",
       "  <tbody>\n",
       "    <tr>\n",
       "      <th>1</th>\n",
       "      <td>1127</td>\n",
       "      <td>2608</td>\n",
       "      <td>6442</td>\n",
       "      <td>8400</td>\n",
       "      <td>4495</td>\n",
       "    </tr>\n",
       "    <tr>\n",
       "      <th>2</th>\n",
       "      <td>629</td>\n",
       "      <td>1464</td>\n",
       "      <td>3297</td>\n",
       "      <td>4403</td>\n",
       "      <td>2335</td>\n",
       "    </tr>\n",
       "    <tr>\n",
       "      <th>3</th>\n",
       "      <td>466</td>\n",
       "      <td>1077</td>\n",
       "      <td>2523</td>\n",
       "      <td>3032</td>\n",
       "      <td>1439</td>\n",
       "    </tr>\n",
       "    <tr>\n",
       "      <th>4</th>\n",
       "      <td>1048</td>\n",
       "      <td>2247</td>\n",
       "      <td>5501</td>\n",
       "      <td>6748</td>\n",
       "      <td>3863</td>\n",
       "    </tr>\n",
       "    <tr>\n",
       "      <th>5</th>\n",
       "      <td>4557</td>\n",
       "      <td>7631</td>\n",
       "      <td>18481</td>\n",
       "      <td>25769</td>\n",
       "      <td>17840</td>\n",
       "    </tr>\n",
       "    <tr>\n",
       "      <th>6</th>\n",
       "      <td>3196</td>\n",
       "      <td>6500</td>\n",
       "      <td>15211</td>\n",
       "      <td>21838</td>\n",
       "      <td>14365</td>\n",
       "    </tr>\n",
       "    <tr>\n",
       "      <th>7</th>\n",
       "      <td>4891</td>\n",
       "      <td>9566</td>\n",
       "      <td>25421</td>\n",
       "      <td>34957</td>\n",
       "      <td>22169</td>\n",
       "    </tr>\n",
       "    <tr>\n",
       "      <th>8</th>\n",
       "      <td>10873</td>\n",
       "      <td>20597</td>\n",
       "      <td>50509</td>\n",
       "      <td>64198</td>\n",
       "      <td>42497</td>\n",
       "    </tr>\n",
       "    <tr>\n",
       "      <th>9</th>\n",
       "      <td>3107</td>\n",
       "      <td>5873</td>\n",
       "      <td>14702</td>\n",
       "      <td>19927</td>\n",
       "      <td>13182</td>\n",
       "    </tr>\n",
       "    <tr>\n",
       "      <th>10</th>\n",
       "      <td>2121</td>\n",
       "      <td>4785</td>\n",
       "      <td>12175</td>\n",
       "      <td>16095</td>\n",
       "      <td>10324</td>\n",
       "    </tr>\n",
       "    <tr>\n",
       "      <th>11</th>\n",
       "      <td>17701</td>\n",
       "      <td>32202</td>\n",
       "      <td>76069</td>\n",
       "      <td>102448</td>\n",
       "      <td>67041</td>\n",
       "    </tr>\n",
       "    <tr>\n",
       "      <th>12</th>\n",
       "      <td>6458</td>\n",
       "      <td>13007</td>\n",
       "      <td>30866</td>\n",
       "      <td>41156</td>\n",
       "      <td>26760</td>\n",
       "    </tr>\n",
       "  </tbody>\n",
       "</table>\n",
       "</div>"
      ],
      "text/plain": [
       "Rating      1      2      3       4      5\n",
       "Date                                      \n",
       "1        1127   2608   6442    8400   4495\n",
       "2         629   1464   3297    4403   2335\n",
       "3         466   1077   2523    3032   1439\n",
       "4        1048   2247   5501    6748   3863\n",
       "5        4557   7631  18481   25769  17840\n",
       "6        3196   6500  15211   21838  14365\n",
       "7        4891   9566  25421   34957  22169\n",
       "8       10873  20597  50509   64198  42497\n",
       "9        3107   5873  14702   19927  13182\n",
       "10       2121   4785  12175   16095  10324\n",
       "11      17701  32202  76069  102448  67041\n",
       "12       6458  13007  30866   41156  26760"
      ]
     },
     "execution_count": 34,
     "metadata": {},
     "output_type": "execute_result"
    }
   ],
   "source": []
  },
  {
   "cell_type": "markdown",
   "id": "8ee1739b",
   "metadata": {},
   "source": [
    "### Task 34\n",
    "Plot the line graph using the dataframe obtained from Task 33"
   ]
  },
  {
   "cell_type": "code",
   "execution_count": 51,
   "id": "2034543f",
   "metadata": {},
   "outputs": [
    {
     "data": {
      "text/plain": [
       "<AxesSubplot:xlabel='Date'>"
      ]
     },
     "execution_count": 51,
     "metadata": {},
     "output_type": "execute_result"
    },
    {
     "data": {
      "image/png": "[encoded data removed]",
      "text/plain": [
       "<Figure size 432x288 with 1 Axes>"
      ]
     },
     "metadata": {
      "needs_background": "light"
     },
     "output_type": "display_data"
    }
   ],
   "source": [
    "converting_series_df.plot.line()"
   ]
  },
  {
   "cell_type": "code",
   "execution_count": 35,
   "id": "18b4cf43",
   "metadata": {},
   "outputs": [
    {
     "data": {
      "text/plain": [
       "<AxesSubplot:xlabel='Date'>"
      ]
     },
     "execution_count": 35,
     "metadata": {},
     "output_type": "execute_result"
    },
    {
     "data": {
      "image/png": "[encoded data removed]",
      "text/plain": [
       "<Figure size 432x288 with 1 Axes>"
      ]
     },
     "metadata": {
      "needs_background": "light"
     },
     "output_type": "display_data"
    }
   ],
   "source": []
  },
  {
   "cell_type": "markdown",
   "id": "5f9eda17",
   "metadata": {},
   "source": [
    "### Task 35\n",
    "Add a new column `Genre` into the DataFrame obtained from Task 7 by splitting the genres into a list. Drop the `Genres` column afterwards"
   ]
  },
  {
   "cell_type": "code",
   "execution_count": 52,
   "id": "7582d204",
   "metadata": {},
   "outputs": [
    {
     "data": {
      "text/html": [
       "<div>\n",
       "<style scoped>\n",
       "    .dataframe tbody tr th:only-of-type {\n",
       "        vertical-align: middle;\n",
       "    }\n",
       "\n",
       "    .dataframe tbody tr th {\n",
       "        vertical-align: top;\n",
       "    }\n",
       "\n",
       "    .dataframe thead th {\n",
       "        text-align: right;\n",
       "    }\n",
       "</style>\n",
       "<table border=\"1\" class=\"dataframe\">\n",
       "  <thead>\n",
       "    <tr style=\"text-align: right;\">\n",
       "      <th></th>\n",
       "      <th>MovieID</th>\n",
       "      <th>Title</th>\n",
       "      <th>Genres</th>\n",
       "      <th>Genre</th>\n",
       "    </tr>\n",
       "  </thead>\n",
       "  <tbody>\n",
       "    <tr>\n",
       "      <th>0</th>\n",
       "      <td>1</td>\n",
       "      <td>Toy Story (1995)</td>\n",
       "      <td>Animation|Children's|Comedy</td>\n",
       "      <td>[Animation, Children's, Comedy]</td>\n",
       "    </tr>\n",
       "    <tr>\n",
       "      <th>1</th>\n",
       "      <td>2</td>\n",
       "      <td>Jumanji (1995)</td>\n",
       "      <td>Adventure|Children's|Fantasy</td>\n",
       "      <td>[Adventure, Children's, Fantasy]</td>\n",
       "    </tr>\n",
       "    <tr>\n",
       "      <th>2</th>\n",
       "      <td>3</td>\n",
       "      <td>Grumpier Old Men (1995)</td>\n",
       "      <td>Comedy|Romance</td>\n",
       "      <td>[Comedy, Romance]</td>\n",
       "    </tr>\n",
       "    <tr>\n",
       "      <th>3</th>\n",
       "      <td>4</td>\n",
       "      <td>Waiting to Exhale (1995)</td>\n",
       "      <td>Comedy|Drama</td>\n",
       "      <td>[Comedy, Drama]</td>\n",
       "    </tr>\n",
       "    <tr>\n",
       "      <th>4</th>\n",
       "      <td>5</td>\n",
       "      <td>Father of the Bride Part II (1995)</td>\n",
       "      <td>Comedy</td>\n",
       "      <td>[Comedy]</td>\n",
       "    </tr>\n",
       "  </tbody>\n",
       "</table>\n",
       "</div>"
      ],
      "text/plain": [
       "   MovieID                               Title                        Genres  \\\n",
       "0        1                    Toy Story (1995)   Animation|Children's|Comedy   \n",
       "1        2                      Jumanji (1995)  Adventure|Children's|Fantasy   \n",
       "2        3             Grumpier Old Men (1995)                Comedy|Romance   \n",
       "3        4            Waiting to Exhale (1995)                  Comedy|Drama   \n",
       "4        5  Father of the Bride Part II (1995)                        Comedy   \n",
       "\n",
       "                              Genre  \n",
       "0   [Animation, Children's, Comedy]  \n",
       "1  [Adventure, Children's, Fantasy]  \n",
       "2                 [Comedy, Romance]  \n",
       "3                   [Comedy, Drama]  \n",
       "4                          [Comedy]  "
      ]
     },
     "execution_count": 52,
     "metadata": {},
     "output_type": "execute_result"
    }
   ],
   "source": [
    "movies_df['Genre']=movies_df['Genres'].str.split('|')\n",
    "movies_df.head()"
   ]
  },
  {
   "cell_type": "code",
   "execution_count": 53,
   "id": "dd4ffa49",
   "metadata": {},
   "outputs": [
    {
     "data": {
      "text/html": [
       "<div>\n",
       "<style scoped>\n",
       "    .dataframe tbody tr th:only-of-type {\n",
       "        vertical-align: middle;\n",
       "    }\n",
       "\n",
       "    .dataframe tbody tr th {\n",
       "        vertical-align: top;\n",
       "    }\n",
       "\n",
       "    .dataframe thead th {\n",
       "        text-align: right;\n",
       "    }\n",
       "</style>\n",
       "<table border=\"1\" class=\"dataframe\">\n",
       "  <thead>\n",
       "    <tr style=\"text-align: right;\">\n",
       "      <th></th>\n",
       "      <th>MovieID</th>\n",
       "      <th>Title</th>\n",
       "      <th>Genre</th>\n",
       "    </tr>\n",
       "  </thead>\n",
       "  <tbody>\n",
       "    <tr>\n",
       "      <th>0</th>\n",
       "      <td>1</td>\n",
       "      <td>Toy Story (1995)</td>\n",
       "      <td>[Animation, Children's, Comedy]</td>\n",
       "    </tr>\n",
       "    <tr>\n",
       "      <th>1</th>\n",
       "      <td>2</td>\n",
       "      <td>Jumanji (1995)</td>\n",
       "      <td>[Adventure, Children's, Fantasy]</td>\n",
       "    </tr>\n",
       "    <tr>\n",
       "      <th>2</th>\n",
       "      <td>3</td>\n",
       "      <td>Grumpier Old Men (1995)</td>\n",
       "      <td>[Comedy, Romance]</td>\n",
       "    </tr>\n",
       "    <tr>\n",
       "      <th>3</th>\n",
       "      <td>4</td>\n",
       "      <td>Waiting to Exhale (1995)</td>\n",
       "      <td>[Comedy, Drama]</td>\n",
       "    </tr>\n",
       "    <tr>\n",
       "      <th>4</th>\n",
       "      <td>5</td>\n",
       "      <td>Father of the Bride Part II (1995)</td>\n",
       "      <td>[Comedy]</td>\n",
       "    </tr>\n",
       "  </tbody>\n",
       "</table>\n",
       "</div>"
      ],
      "text/plain": [
       "   MovieID                               Title  \\\n",
       "0        1                    Toy Story (1995)   \n",
       "1        2                      Jumanji (1995)   \n",
       "2        3             Grumpier Old Men (1995)   \n",
       "3        4            Waiting to Exhale (1995)   \n",
       "4        5  Father of the Bride Part II (1995)   \n",
       "\n",
       "                              Genre  \n",
       "0   [Animation, Children's, Comedy]  \n",
       "1  [Adventure, Children's, Fantasy]  \n",
       "2                 [Comedy, Romance]  \n",
       "3                   [Comedy, Drama]  \n",
       "4                          [Comedy]  "
      ]
     },
     "execution_count": 53,
     "metadata": {},
     "output_type": "execute_result"
    }
   ],
   "source": [
    "movies_df.drop('Genres', axis=1, inplace=True)\n",
    "movies_df.head()"
   ]
  },
  {
   "cell_type": "code",
   "execution_count": 36,
   "id": "06601aea",
   "metadata": {},
   "outputs": [
    {
     "data": {
      "text/html": [
       "<div>\n",
       "<style scoped>\n",
       "    .dataframe tbody tr th:only-of-type {\n",
       "        vertical-align: middle;\n",
       "    }\n",
       "\n",
       "    .dataframe tbody tr th {\n",
       "        vertical-align: top;\n",
       "    }\n",
       "\n",
       "    .dataframe thead th {\n",
       "        text-align: right;\n",
       "    }\n",
       "</style>\n",
       "<table border=\"1\" class=\"dataframe\">\n",
       "  <thead>\n",
       "    <tr style=\"text-align: right;\">\n",
       "      <th></th>\n",
       "      <th>MovieID</th>\n",
       "      <th>Title</th>\n",
       "      <th>Genre</th>\n",
       "    </tr>\n",
       "  </thead>\n",
       "  <tbody>\n",
       "    <tr>\n",
       "      <th>0</th>\n",
       "      <td>1</td>\n",
       "      <td>Toy Story (1995)</td>\n",
       "      <td>[Animation, Children's, Comedy]</td>\n",
       "    </tr>\n",
       "    <tr>\n",
       "      <th>1</th>\n",
       "      <td>2</td>\n",
       "      <td>Jumanji (1995)</td>\n",
       "      <td>[Adventure, Children's, Fantasy]</td>\n",
       "    </tr>\n",
       "    <tr>\n",
       "      <th>2</th>\n",
       "      <td>3</td>\n",
       "      <td>Grumpier Old Men (1995)</td>\n",
       "      <td>[Comedy, Romance]</td>\n",
       "    </tr>\n",
       "    <tr>\n",
       "      <th>3</th>\n",
       "      <td>4</td>\n",
       "      <td>Waiting to Exhale (1995)</td>\n",
       "      <td>[Comedy, Drama]</td>\n",
       "    </tr>\n",
       "    <tr>\n",
       "      <th>4</th>\n",
       "      <td>5</td>\n",
       "      <td>Father of the Bride Part II (1995)</td>\n",
       "      <td>[Comedy]</td>\n",
       "    </tr>\n",
       "  </tbody>\n",
       "</table>\n",
       "</div>"
      ],
      "text/plain": [
       "   MovieID                               Title  \\\n",
       "0        1                    Toy Story (1995)   \n",
       "1        2                      Jumanji (1995)   \n",
       "2        3             Grumpier Old Men (1995)   \n",
       "3        4            Waiting to Exhale (1995)   \n",
       "4        5  Father of the Bride Part II (1995)   \n",
       "\n",
       "                              Genre  \n",
       "0   [Animation, Children's, Comedy]  \n",
       "1  [Adventure, Children's, Fantasy]  \n",
       "2                 [Comedy, Romance]  \n",
       "3                   [Comedy, Drama]  \n",
       "4                          [Comedy]  "
      ]
     },
     "execution_count": 36,
     "metadata": {},
     "output_type": "execute_result"
    }
   ],
   "source": []
  },
  {
   "cell_type": "markdown",
   "id": "27121fb0",
   "metadata": {},
   "source": [
    "### Task 36\n",
    "Reconstruct the `Genre` column from Task 35 so that only one genre per row. Hint, use the `explode` method"
   ]
  },
  {
   "cell_type": "code",
   "execution_count": 54,
   "id": "2baa6765",
   "metadata": {},
   "outputs": [
    {
     "data": {
      "text/html": [
       "<div>\n",
       "<style scoped>\n",
       "    .dataframe tbody tr th:only-of-type {\n",
       "        vertical-align: middle;\n",
       "    }\n",
       "\n",
       "    .dataframe tbody tr th {\n",
       "        vertical-align: top;\n",
       "    }\n",
       "\n",
       "    .dataframe thead th {\n",
       "        text-align: right;\n",
       "    }\n",
       "</style>\n",
       "<table border=\"1\" class=\"dataframe\">\n",
       "  <thead>\n",
       "    <tr style=\"text-align: right;\">\n",
       "      <th></th>\n",
       "      <th>MovieID</th>\n",
       "      <th>Title</th>\n",
       "      <th>Genre</th>\n",
       "    </tr>\n",
       "  </thead>\n",
       "  <tbody>\n",
       "    <tr>\n",
       "      <th>0</th>\n",
       "      <td>1</td>\n",
       "      <td>Toy Story (1995)</td>\n",
       "      <td>Animation</td>\n",
       "    </tr>\n",
       "    <tr>\n",
       "      <th>0</th>\n",
       "      <td>1</td>\n",
       "      <td>Toy Story (1995)</td>\n",
       "      <td>Children's</td>\n",
       "    </tr>\n",
       "    <tr>\n",
       "      <th>0</th>\n",
       "      <td>1</td>\n",
       "      <td>Toy Story (1995)</td>\n",
       "      <td>Comedy</td>\n",
       "    </tr>\n",
       "    <tr>\n",
       "      <th>1</th>\n",
       "      <td>2</td>\n",
       "      <td>Jumanji (1995)</td>\n",
       "      <td>Adventure</td>\n",
       "    </tr>\n",
       "    <tr>\n",
       "      <th>1</th>\n",
       "      <td>2</td>\n",
       "      <td>Jumanji (1995)</td>\n",
       "      <td>Children's</td>\n",
       "    </tr>\n",
       "  </tbody>\n",
       "</table>\n",
       "</div>"
      ],
      "text/plain": [
       "   MovieID             Title       Genre\n",
       "0        1  Toy Story (1995)   Animation\n",
       "0        1  Toy Story (1995)  Children's\n",
       "0        1  Toy Story (1995)      Comedy\n",
       "1        2    Jumanji (1995)   Adventure\n",
       "1        2    Jumanji (1995)  Children's"
      ]
     },
     "execution_count": 54,
     "metadata": {},
     "output_type": "execute_result"
    }
   ],
   "source": [
    "reconstruct_df = movies_df.explode('Genre')\n",
    "reconstruct_df.head()"
   ]
  },
  {
   "cell_type": "code",
   "execution_count": 37,
   "id": "e863c04d",
   "metadata": {},
   "outputs": [
    {
     "data": {
      "text/html": [
       "<div>\n",
       "<style scoped>\n",
       "    .dataframe tbody tr th:only-of-type {\n",
       "        vertical-align: middle;\n",
       "    }\n",
       "\n",
       "    .dataframe tbody tr th {\n",
       "        vertical-align: top;\n",
       "    }\n",
       "\n",
       "    .dataframe thead th {\n",
       "        text-align: right;\n",
       "    }\n",
       "</style>\n",
       "<table border=\"1\" class=\"dataframe\">\n",
       "  <thead>\n",
       "    <tr style=\"text-align: right;\">\n",
       "      <th></th>\n",
       "      <th>MovieID</th>\n",
       "      <th>Title</th>\n",
       "      <th>Genre</th>\n",
       "    </tr>\n",
       "  </thead>\n",
       "  <tbody>\n",
       "    <tr>\n",
       "      <th>0</th>\n",
       "      <td>1</td>\n",
       "      <td>Toy Story (1995)</td>\n",
       "      <td>Animation</td>\n",
       "    </tr>\n",
       "    <tr>\n",
       "      <th>0</th>\n",
       "      <td>1</td>\n",
       "      <td>Toy Story (1995)</td>\n",
       "      <td>Children's</td>\n",
       "    </tr>\n",
       "    <tr>\n",
       "      <th>0</th>\n",
       "      <td>1</td>\n",
       "      <td>Toy Story (1995)</td>\n",
       "      <td>Comedy</td>\n",
       "    </tr>\n",
       "    <tr>\n",
       "      <th>1</th>\n",
       "      <td>2</td>\n",
       "      <td>Jumanji (1995)</td>\n",
       "      <td>Adventure</td>\n",
       "    </tr>\n",
       "    <tr>\n",
       "      <th>1</th>\n",
       "      <td>2</td>\n",
       "      <td>Jumanji (1995)</td>\n",
       "      <td>Children's</td>\n",
       "    </tr>\n",
       "  </tbody>\n",
       "</table>\n",
       "</div>"
      ],
      "text/plain": [
       "   MovieID             Title       Genre\n",
       "0        1  Toy Story (1995)   Animation\n",
       "0        1  Toy Story (1995)  Children's\n",
       "0        1  Toy Story (1995)      Comedy\n",
       "1        2    Jumanji (1995)   Adventure\n",
       "1        2    Jumanji (1995)  Children's"
      ]
     },
     "execution_count": 37,
     "metadata": {},
     "output_type": "execute_result"
    }
   ],
   "source": []
  },
  {
   "cell_type": "markdown",
   "id": "b1742490",
   "metadata": {},
   "source": [
    "### Task 37\n",
    "Find the top 5 movie genres in all movie titles"
   ]
  },
  {
   "cell_type": "code",
   "execution_count": 55,
   "id": "a9d3faed",
   "metadata": {},
   "outputs": [
    {
     "data": {
      "text/plain": [
       "Drama       1603\n",
       "Comedy      1200\n",
       "Action       503\n",
       "Thriller     492\n",
       "Romance      471\n",
       "Name: Genre, dtype: int64"
      ]
     },
     "execution_count": 55,
     "metadata": {},
     "output_type": "execute_result"
    }
   ],
   "source": [
    "reconstruct_df['Genre'].value_counts().head()"
   ]
  },
  {
   "cell_type": "code",
   "execution_count": 38,
   "id": "a8a31d0a",
   "metadata": {},
   "outputs": [
    {
     "data": {
      "text/plain": [
       "Drama       1603\n",
       "Comedy      1200\n",
       "Action       503\n",
       "Thriller     492\n",
       "Romance      471\n",
       "Name: Genre, dtype: int64"
      ]
     },
     "execution_count": 38,
     "metadata": {},
     "output_type": "execute_result"
    }
   ],
   "source": []
  },
  {
   "cell_type": "markdown",
   "id": "6bd7dd37",
   "metadata": {},
   "source": [
    "### Task 38\n",
    "Plot a bar graph showing the total numbers for each genre"
   ]
  },
  {
   "cell_type": "code",
   "execution_count": 56,
   "id": "622661fe",
   "metadata": {},
   "outputs": [
    {
     "data": {
      "text/plain": [
       "<AxesSubplot:xlabel='Genre'>"
      ]
     },
     "execution_count": 56,
     "metadata": {},
     "output_type": "execute_result"
    },
    {
     "data": {
      "image/png": "[encoded data removed]",
      "text/plain": [
       "<Figure size 720x432 with 1 Axes>"
      ]
     },
     "metadata": {
      "needs_background": "light"
     },
     "output_type": "display_data"
    }
   ],
   "source": [
    "top_movie_genres_df = reconstruct_df.groupby('Genre')['Title'].count()\n",
    "top_movie_genres_df_sorted = top_movie_genres_df.sort_values(ascending = False)\n",
    "top_movie_genres_df_sorted.plot.bar(figsize = (10, 6))"
   ]
  },
  {
   "cell_type": "code",
   "execution_count": 39,
   "id": "bf048ac4",
   "metadata": {},
   "outputs": [
    {
     "data": {
      "text/plain": [
       "<AxesSubplot:>"
      ]
     },
     "execution_count": 39,
     "metadata": {},
     "output_type": "execute_result"
    },
    {
     "data": {
      "image/png": "[encoded data removed]",
      "text/plain": [
       "<Figure size 720x432 with 1 Axes>"
      ]
     },
     "metadata": {
      "needs_background": "light"
     },
     "output_type": "display_data"
    }
   ],
   "source": []
  },
  {
   "cell_type": "markdown",
   "id": "b14ded82",
   "metadata": {},
   "source": [
    "### Task 39\n",
    "What are the top 5 rated Genre"
   ]
  },
  {
   "cell_type": "code",
   "execution_count": 57,
   "id": "6b4f7103",
   "metadata": {},
   "outputs": [
    {
     "data": {
      "text/plain": [
       "Genre\n",
       "Film-Noir      4.075188\n",
       "Documentary    3.933123\n",
       "War            3.893327\n",
       "Drama          3.766332\n",
       "Crime          3.708679\n",
       "Name: Rating, dtype: float64"
      ]
     },
     "execution_count": 57,
     "metadata": {},
     "output_type": "execute_result"
    }
   ],
   "source": [
    "top_five_rated_genre_df = pd.merge(ratings_df,  reconstruct_df, on = \"MovieID\", how = 'outer')\n",
    "top_five_rated_genre_df.groupby('Genre')['Rating'].mean().sort_values(ascending = False).head()"
   ]
  },
  {
   "cell_type": "code",
   "execution_count": 40,
   "id": "2bc1d551",
   "metadata": {},
   "outputs": [
    {
     "data": {
      "text/plain": [
       "Genre\n",
       "Film-Noir      4.075188\n",
       "Documentary    3.933123\n",
       "War            3.893327\n",
       "Drama          3.766332\n",
       "Crime          3.708679\n",
       "Name: Rating, dtype: float64"
      ]
     },
     "execution_count": 40,
     "metadata": {},
     "output_type": "execute_result"
    }
   ],
   "source": []
  }
 ],
 "metadata": {
  "kernelspec": {
   "display_name": "Python 3 (ipykernel)",
   "language": "python",
   "name": "python3"
  },
  "language_info": {
   "codemirror_mode": {
    "name": "ipython",
    "version": 3
   },
   "file_extension": ".py",
   "mimetype": "text/x-python",
   "name": "python",
   "nbconvert_exporter": "python",
   "pygments_lexer": "ipython3",
   "version": "3.9.7"
  }
 },
 "nbformat": 4,
 "nbformat_minor": 5
}
